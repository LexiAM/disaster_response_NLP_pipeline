{
 "cells": [
  {
   "cell_type": "markdown",
   "metadata": {},
   "source": [
    "# ETL Pipeline Preparation\n",
    "Follow the instructions below to help you create your ETL pipeline.\n",
    "### 1. Import libraries and load datasets.\n",
    "- Import Python libraries\n",
    "- Load `messages.csv` into a dataframe and inspect the first few lines.\n",
    "- Load `categories.csv` into a dataframe and inspect the first few lines."
   ]
  },
  {
   "cell_type": "code",
   "execution_count": 1,
   "metadata": {},
   "outputs": [],
   "source": [
    "# import libraries\n",
    "import pandas as pd\n",
    "import numpy as np\n",
    "import sqlite3"
   ]
  },
  {
   "cell_type": "code",
   "execution_count": 355,
   "metadata": {},
   "outputs": [
    {
     "data": {
      "text/html": "<div>\n<style scoped>\n    .dataframe tbody tr th:only-of-type {\n        vertical-align: middle;\n    }\n\n    .dataframe tbody tr th {\n        vertical-align: top;\n    }\n\n    .dataframe thead th {\n        text-align: right;\n    }\n</style>\n<table border=\"1\" class=\"dataframe\">\n  <thead>\n    <tr style=\"text-align: right;\">\n      <th></th>\n      <th>id</th>\n      <th>message</th>\n      <th>original</th>\n      <th>genre</th>\n    </tr>\n  </thead>\n  <tbody>\n    <tr>\n      <th>0</th>\n      <td>2</td>\n      <td>Weather update - a cold front from Cuba that c...</td>\n      <td>Un front froid se retrouve sur Cuba ce matin. ...</td>\n      <td>direct</td>\n    </tr>\n    <tr>\n      <th>1</th>\n      <td>7</td>\n      <td>Is the Hurricane over or is it not over</td>\n      <td>Cyclone nan fini osinon li pa fini</td>\n      <td>direct</td>\n    </tr>\n    <tr>\n      <th>2</th>\n      <td>8</td>\n      <td>Looking for someone but no name</td>\n      <td>Patnm, di Maryani relem pou li banm nouvel li ...</td>\n      <td>direct</td>\n    </tr>\n    <tr>\n      <th>3</th>\n      <td>9</td>\n      <td>UN reports Leogane 80-90 destroyed. Only Hospi...</td>\n      <td>UN reports Leogane 80-90 destroyed. Only Hospi...</td>\n      <td>direct</td>\n    </tr>\n    <tr>\n      <th>4</th>\n      <td>12</td>\n      <td>says: west side of Haiti, rest of the country ...</td>\n      <td>facade ouest d Haiti et le reste du pays aujou...</td>\n      <td>direct</td>\n    </tr>\n  </tbody>\n</table>\n</div>",
      "text/plain": "   id                                            message  \\\n0   2  Weather update - a cold front from Cuba that c...   \n1   7            Is the Hurricane over or is it not over   \n2   8                    Looking for someone but no name   \n3   9  UN reports Leogane 80-90 destroyed. Only Hospi...   \n4  12  says: west side of Haiti, rest of the country ...   \n\n                                            original   genre  \n0  Un front froid se retrouve sur Cuba ce matin. ...  direct  \n1                 Cyclone nan fini osinon li pa fini  direct  \n2  Patnm, di Maryani relem pou li banm nouvel li ...  direct  \n3  UN reports Leogane 80-90 destroyed. Only Hospi...  direct  \n4  facade ouest d Haiti et le reste du pays aujou...  direct  "
     },
     "execution_count": 355,
     "metadata": {},
     "output_type": "execute_result"
    }
   ],
   "source": [
    "# load messages dataset\n",
    "messages = pd.read_csv('../data/disaster_messages.csv')\n",
    "messages.head()"
   ]
  },
  {
   "cell_type": "code",
   "execution_count": 356,
   "metadata": {},
   "outputs": [
    {
     "data": {
      "text/html": "<div>\n<style scoped>\n    .dataframe tbody tr th:only-of-type {\n        vertical-align: middle;\n    }\n\n    .dataframe tbody tr th {\n        vertical-align: top;\n    }\n\n    .dataframe thead th {\n        text-align: right;\n    }\n</style>\n<table border=\"1\" class=\"dataframe\">\n  <thead>\n    <tr style=\"text-align: right;\">\n      <th></th>\n      <th>id</th>\n      <th>categories</th>\n    </tr>\n  </thead>\n  <tbody>\n    <tr>\n      <th>0</th>\n      <td>2</td>\n      <td>related-1;request-0;offer-0;aid_related-0;medi...</td>\n    </tr>\n    <tr>\n      <th>1</th>\n      <td>7</td>\n      <td>related-1;request-0;offer-0;aid_related-1;medi...</td>\n    </tr>\n    <tr>\n      <th>2</th>\n      <td>8</td>\n      <td>related-1;request-0;offer-0;aid_related-0;medi...</td>\n    </tr>\n    <tr>\n      <th>3</th>\n      <td>9</td>\n      <td>related-1;request-1;offer-0;aid_related-1;medi...</td>\n    </tr>\n    <tr>\n      <th>4</th>\n      <td>12</td>\n      <td>related-1;request-0;offer-0;aid_related-0;medi...</td>\n    </tr>\n  </tbody>\n</table>\n</div>",
      "text/plain": "   id                                         categories\n0   2  related-1;request-0;offer-0;aid_related-0;medi...\n1   7  related-1;request-0;offer-0;aid_related-1;medi...\n2   8  related-1;request-0;offer-0;aid_related-0;medi...\n3   9  related-1;request-1;offer-0;aid_related-1;medi...\n4  12  related-1;request-0;offer-0;aid_related-0;medi..."
     },
     "execution_count": 356,
     "metadata": {},
     "output_type": "execute_result"
    }
   ],
   "source": [
    "# load categories dataset\n",
    "categories = pd.read_csv('../data/disaster_categories.csv')\n",
    "categories.head()"
   ]
  },
  {
   "cell_type": "markdown",
   "metadata": {},
   "source": [
    "### 2. Merge datasets.\n",
    "- Merge the messages and categories datasets using the common id\n",
    "- Assign this combined dataset to `df`, which will be cleaned in the following steps"
   ]
  },
  {
   "cell_type": "code",
   "execution_count": 357,
   "metadata": {},
   "outputs": [
    {
     "data": {
      "text/html": "<div>\n<style scoped>\n    .dataframe tbody tr th:only-of-type {\n        vertical-align: middle;\n    }\n\n    .dataframe tbody tr th {\n        vertical-align: top;\n    }\n\n    .dataframe thead th {\n        text-align: right;\n    }\n</style>\n<table border=\"1\" class=\"dataframe\">\n  <thead>\n    <tr style=\"text-align: right;\">\n      <th></th>\n      <th>id</th>\n      <th>message</th>\n      <th>original</th>\n      <th>genre</th>\n      <th>categories</th>\n    </tr>\n  </thead>\n  <tbody>\n    <tr>\n      <th>0</th>\n      <td>2</td>\n      <td>Weather update - a cold front from Cuba that c...</td>\n      <td>Un front froid se retrouve sur Cuba ce matin. ...</td>\n      <td>direct</td>\n      <td>related-1;request-0;offer-0;aid_related-0;medi...</td>\n    </tr>\n    <tr>\n      <th>1</th>\n      <td>7</td>\n      <td>Is the Hurricane over or is it not over</td>\n      <td>Cyclone nan fini osinon li pa fini</td>\n      <td>direct</td>\n      <td>related-1;request-0;offer-0;aid_related-1;medi...</td>\n    </tr>\n    <tr>\n      <th>2</th>\n      <td>8</td>\n      <td>Looking for someone but no name</td>\n      <td>Patnm, di Maryani relem pou li banm nouvel li ...</td>\n      <td>direct</td>\n      <td>related-1;request-0;offer-0;aid_related-0;medi...</td>\n    </tr>\n    <tr>\n      <th>3</th>\n      <td>9</td>\n      <td>UN reports Leogane 80-90 destroyed. Only Hospi...</td>\n      <td>UN reports Leogane 80-90 destroyed. Only Hospi...</td>\n      <td>direct</td>\n      <td>related-1;request-1;offer-0;aid_related-1;medi...</td>\n    </tr>\n    <tr>\n      <th>4</th>\n      <td>12</td>\n      <td>says: west side of Haiti, rest of the country ...</td>\n      <td>facade ouest d Haiti et le reste du pays aujou...</td>\n      <td>direct</td>\n      <td>related-1;request-0;offer-0;aid_related-0;medi...</td>\n    </tr>\n  </tbody>\n</table>\n</div>",
      "text/plain": "   id                                            message  \\\n0   2  Weather update - a cold front from Cuba that c...   \n1   7            Is the Hurricane over or is it not over   \n2   8                    Looking for someone but no name   \n3   9  UN reports Leogane 80-90 destroyed. Only Hospi...   \n4  12  says: west side of Haiti, rest of the country ...   \n\n                                            original   genre  \\\n0  Un front froid se retrouve sur Cuba ce matin. ...  direct   \n1                 Cyclone nan fini osinon li pa fini  direct   \n2  Patnm, di Maryani relem pou li banm nouvel li ...  direct   \n3  UN reports Leogane 80-90 destroyed. Only Hospi...  direct   \n4  facade ouest d Haiti et le reste du pays aujou...  direct   \n\n                                          categories  \n0  related-1;request-0;offer-0;aid_related-0;medi...  \n1  related-1;request-0;offer-0;aid_related-1;medi...  \n2  related-1;request-0;offer-0;aid_related-0;medi...  \n3  related-1;request-1;offer-0;aid_related-1;medi...  \n4  related-1;request-0;offer-0;aid_related-0;medi...  "
     },
     "execution_count": 357,
     "metadata": {},
     "output_type": "execute_result"
    }
   ],
   "source": [
    "# merge datasets\n",
    "df = messages.merge(categories, on='id')\n",
    "df.head()"
   ]
  },
  {
   "cell_type": "markdown",
   "metadata": {},
   "source": [
    "### 3. Split `categories` into separate category columns.\n",
    "- Split the values in the `categories` column on the `;` character so that each value becomes a separate column. You'll find [this method](https://pandas.pydata.org/pandas-docs/version/0.23/generated/pandas.Series.str.split.html) very helpful! Make sure to set `expand=True`.\n",
    "- Use the first row of categories dataframe to create column names for the categories data.\n",
    "- Rename columns of `categories` with new column names."
   ]
  },
  {
   "cell_type": "code",
   "execution_count": 358,
   "metadata": {},
   "outputs": [
    {
     "data": {
      "text/html": "<div>\n<style scoped>\n    .dataframe tbody tr th:only-of-type {\n        vertical-align: middle;\n    }\n\n    .dataframe tbody tr th {\n        vertical-align: top;\n    }\n\n    .dataframe thead th {\n        text-align: right;\n    }\n</style>\n<table border=\"1\" class=\"dataframe\">\n  <thead>\n    <tr style=\"text-align: right;\">\n      <th></th>\n      <th>0</th>\n      <th>1</th>\n      <th>2</th>\n      <th>3</th>\n      <th>4</th>\n      <th>5</th>\n      <th>6</th>\n      <th>7</th>\n      <th>8</th>\n      <th>9</th>\n      <th>...</th>\n      <th>26</th>\n      <th>27</th>\n      <th>28</th>\n      <th>29</th>\n      <th>30</th>\n      <th>31</th>\n      <th>32</th>\n      <th>33</th>\n      <th>34</th>\n      <th>35</th>\n    </tr>\n  </thead>\n  <tbody>\n    <tr>\n      <th>0</th>\n      <td>related-1</td>\n      <td>request-0</td>\n      <td>offer-0</td>\n      <td>aid_related-0</td>\n      <td>medical_help-0</td>\n      <td>medical_products-0</td>\n      <td>search_and_rescue-0</td>\n      <td>security-0</td>\n      <td>military-0</td>\n      <td>child_alone-0</td>\n      <td>...</td>\n      <td>aid_centers-0</td>\n      <td>other_infrastructure-0</td>\n      <td>weather_related-0</td>\n      <td>floods-0</td>\n      <td>storm-0</td>\n      <td>fire-0</td>\n      <td>earthquake-0</td>\n      <td>cold-0</td>\n      <td>other_weather-0</td>\n      <td>direct_report-0</td>\n    </tr>\n    <tr>\n      <th>1</th>\n      <td>related-1</td>\n      <td>request-0</td>\n      <td>offer-0</td>\n      <td>aid_related-1</td>\n      <td>medical_help-0</td>\n      <td>medical_products-0</td>\n      <td>search_and_rescue-0</td>\n      <td>security-0</td>\n      <td>military-0</td>\n      <td>child_alone-0</td>\n      <td>...</td>\n      <td>aid_centers-0</td>\n      <td>other_infrastructure-0</td>\n      <td>weather_related-1</td>\n      <td>floods-0</td>\n      <td>storm-1</td>\n      <td>fire-0</td>\n      <td>earthquake-0</td>\n      <td>cold-0</td>\n      <td>other_weather-0</td>\n      <td>direct_report-0</td>\n    </tr>\n    <tr>\n      <th>2</th>\n      <td>related-1</td>\n      <td>request-0</td>\n      <td>offer-0</td>\n      <td>aid_related-0</td>\n      <td>medical_help-0</td>\n      <td>medical_products-0</td>\n      <td>search_and_rescue-0</td>\n      <td>security-0</td>\n      <td>military-0</td>\n      <td>child_alone-0</td>\n      <td>...</td>\n      <td>aid_centers-0</td>\n      <td>other_infrastructure-0</td>\n      <td>weather_related-0</td>\n      <td>floods-0</td>\n      <td>storm-0</td>\n      <td>fire-0</td>\n      <td>earthquake-0</td>\n      <td>cold-0</td>\n      <td>other_weather-0</td>\n      <td>direct_report-0</td>\n    </tr>\n    <tr>\n      <th>3</th>\n      <td>related-1</td>\n      <td>request-1</td>\n      <td>offer-0</td>\n      <td>aid_related-1</td>\n      <td>medical_help-0</td>\n      <td>medical_products-1</td>\n      <td>search_and_rescue-0</td>\n      <td>security-0</td>\n      <td>military-0</td>\n      <td>child_alone-0</td>\n      <td>...</td>\n      <td>aid_centers-0</td>\n      <td>other_infrastructure-0</td>\n      <td>weather_related-0</td>\n      <td>floods-0</td>\n      <td>storm-0</td>\n      <td>fire-0</td>\n      <td>earthquake-0</td>\n      <td>cold-0</td>\n      <td>other_weather-0</td>\n      <td>direct_report-0</td>\n    </tr>\n    <tr>\n      <th>4</th>\n      <td>related-1</td>\n      <td>request-0</td>\n      <td>offer-0</td>\n      <td>aid_related-0</td>\n      <td>medical_help-0</td>\n      <td>medical_products-0</td>\n      <td>search_and_rescue-0</td>\n      <td>security-0</td>\n      <td>military-0</td>\n      <td>child_alone-0</td>\n      <td>...</td>\n      <td>aid_centers-0</td>\n      <td>other_infrastructure-0</td>\n      <td>weather_related-0</td>\n      <td>floods-0</td>\n      <td>storm-0</td>\n      <td>fire-0</td>\n      <td>earthquake-0</td>\n      <td>cold-0</td>\n      <td>other_weather-0</td>\n      <td>direct_report-0</td>\n    </tr>\n  </tbody>\n</table>\n<p>5 rows × 36 columns</p>\n</div>",
      "text/plain": "          0          1        2              3               4   \\\n0  related-1  request-0  offer-0  aid_related-0  medical_help-0   \n1  related-1  request-0  offer-0  aid_related-1  medical_help-0   \n2  related-1  request-0  offer-0  aid_related-0  medical_help-0   \n3  related-1  request-1  offer-0  aid_related-1  medical_help-0   \n4  related-1  request-0  offer-0  aid_related-0  medical_help-0   \n\n                   5                    6           7           8   \\\n0  medical_products-0  search_and_rescue-0  security-0  military-0   \n1  medical_products-0  search_and_rescue-0  security-0  military-0   \n2  medical_products-0  search_and_rescue-0  security-0  military-0   \n3  medical_products-1  search_and_rescue-0  security-0  military-0   \n4  medical_products-0  search_and_rescue-0  security-0  military-0   \n\n              9   ...             26                      27  \\\n0  child_alone-0  ...  aid_centers-0  other_infrastructure-0   \n1  child_alone-0  ...  aid_centers-0  other_infrastructure-0   \n2  child_alone-0  ...  aid_centers-0  other_infrastructure-0   \n3  child_alone-0  ...  aid_centers-0  other_infrastructure-0   \n4  child_alone-0  ...  aid_centers-0  other_infrastructure-0   \n\n                  28        29       30      31            32      33  \\\n0  weather_related-0  floods-0  storm-0  fire-0  earthquake-0  cold-0   \n1  weather_related-1  floods-0  storm-1  fire-0  earthquake-0  cold-0   \n2  weather_related-0  floods-0  storm-0  fire-0  earthquake-0  cold-0   \n3  weather_related-0  floods-0  storm-0  fire-0  earthquake-0  cold-0   \n4  weather_related-0  floods-0  storm-0  fire-0  earthquake-0  cold-0   \n\n                34               35  \n0  other_weather-0  direct_report-0  \n1  other_weather-0  direct_report-0  \n2  other_weather-0  direct_report-0  \n3  other_weather-0  direct_report-0  \n4  other_weather-0  direct_report-0  \n\n[5 rows x 36 columns]"
     },
     "execution_count": 358,
     "metadata": {},
     "output_type": "execute_result"
    }
   ],
   "source": [
    "# create a dataframe of the 36 individual category columns\n",
    "categories = df.categories.str.split(';', expand=True)\n",
    "categories.head()"
   ]
  },
  {
   "cell_type": "code",
   "execution_count": 359,
   "metadata": {},
   "outputs": [
    {
     "name": "stdout",
     "output_type": "stream",
     "text": "['related' 'request' 'offer' 'aid_related' 'medical_help'\n 'medical_products' 'search_and_rescue' 'security' 'military'\n 'child_alone' 'water' 'food' 'shelter' 'clothing' 'money'\n 'missing_people' 'refugees' 'death' 'other_aid' 'infrastructure_related'\n 'transport' 'buildings' 'electricity' 'tools' 'hospitals' 'shops'\n 'aid_centers' 'other_infrastructure' 'weather_related' 'floods' 'storm'\n 'fire' 'earthquake' 'cold' 'other_weather' 'direct_report']\n"
    }
   ],
   "source": [
    "# select the first row of the categories dataframe\n",
    "row = categories.loc[0, :]\n",
    "\n",
    "# use this row to extract a list of new column names for categories.\n",
    "# one way is to apply a lambda function that takes everything \n",
    "# up to the second to last character of each string with slicing\n",
    "category_colnames = row.str[:-2].values\n",
    "print(category_colnames)"
   ]
  },
  {
   "cell_type": "code",
   "execution_count": 360,
   "metadata": {},
   "outputs": [
    {
     "data": {
      "text/html": "<div>\n<style scoped>\n    .dataframe tbody tr th:only-of-type {\n        vertical-align: middle;\n    }\n\n    .dataframe tbody tr th {\n        vertical-align: top;\n    }\n\n    .dataframe thead th {\n        text-align: right;\n    }\n</style>\n<table border=\"1\" class=\"dataframe\">\n  <thead>\n    <tr style=\"text-align: right;\">\n      <th></th>\n      <th>related</th>\n      <th>request</th>\n      <th>offer</th>\n      <th>aid_related</th>\n      <th>medical_help</th>\n      <th>medical_products</th>\n      <th>search_and_rescue</th>\n      <th>security</th>\n      <th>military</th>\n      <th>child_alone</th>\n      <th>...</th>\n      <th>aid_centers</th>\n      <th>other_infrastructure</th>\n      <th>weather_related</th>\n      <th>floods</th>\n      <th>storm</th>\n      <th>fire</th>\n      <th>earthquake</th>\n      <th>cold</th>\n      <th>other_weather</th>\n      <th>direct_report</th>\n    </tr>\n  </thead>\n  <tbody>\n    <tr>\n      <th>0</th>\n      <td>related-1</td>\n      <td>request-0</td>\n      <td>offer-0</td>\n      <td>aid_related-0</td>\n      <td>medical_help-0</td>\n      <td>medical_products-0</td>\n      <td>search_and_rescue-0</td>\n      <td>security-0</td>\n      <td>military-0</td>\n      <td>child_alone-0</td>\n      <td>...</td>\n      <td>aid_centers-0</td>\n      <td>other_infrastructure-0</td>\n      <td>weather_related-0</td>\n      <td>floods-0</td>\n      <td>storm-0</td>\n      <td>fire-0</td>\n      <td>earthquake-0</td>\n      <td>cold-0</td>\n      <td>other_weather-0</td>\n      <td>direct_report-0</td>\n    </tr>\n    <tr>\n      <th>1</th>\n      <td>related-1</td>\n      <td>request-0</td>\n      <td>offer-0</td>\n      <td>aid_related-1</td>\n      <td>medical_help-0</td>\n      <td>medical_products-0</td>\n      <td>search_and_rescue-0</td>\n      <td>security-0</td>\n      <td>military-0</td>\n      <td>child_alone-0</td>\n      <td>...</td>\n      <td>aid_centers-0</td>\n      <td>other_infrastructure-0</td>\n      <td>weather_related-1</td>\n      <td>floods-0</td>\n      <td>storm-1</td>\n      <td>fire-0</td>\n      <td>earthquake-0</td>\n      <td>cold-0</td>\n      <td>other_weather-0</td>\n      <td>direct_report-0</td>\n    </tr>\n    <tr>\n      <th>2</th>\n      <td>related-1</td>\n      <td>request-0</td>\n      <td>offer-0</td>\n      <td>aid_related-0</td>\n      <td>medical_help-0</td>\n      <td>medical_products-0</td>\n      <td>search_and_rescue-0</td>\n      <td>security-0</td>\n      <td>military-0</td>\n      <td>child_alone-0</td>\n      <td>...</td>\n      <td>aid_centers-0</td>\n      <td>other_infrastructure-0</td>\n      <td>weather_related-0</td>\n      <td>floods-0</td>\n      <td>storm-0</td>\n      <td>fire-0</td>\n      <td>earthquake-0</td>\n      <td>cold-0</td>\n      <td>other_weather-0</td>\n      <td>direct_report-0</td>\n    </tr>\n    <tr>\n      <th>3</th>\n      <td>related-1</td>\n      <td>request-1</td>\n      <td>offer-0</td>\n      <td>aid_related-1</td>\n      <td>medical_help-0</td>\n      <td>medical_products-1</td>\n      <td>search_and_rescue-0</td>\n      <td>security-0</td>\n      <td>military-0</td>\n      <td>child_alone-0</td>\n      <td>...</td>\n      <td>aid_centers-0</td>\n      <td>other_infrastructure-0</td>\n      <td>weather_related-0</td>\n      <td>floods-0</td>\n      <td>storm-0</td>\n      <td>fire-0</td>\n      <td>earthquake-0</td>\n      <td>cold-0</td>\n      <td>other_weather-0</td>\n      <td>direct_report-0</td>\n    </tr>\n    <tr>\n      <th>4</th>\n      <td>related-1</td>\n      <td>request-0</td>\n      <td>offer-0</td>\n      <td>aid_related-0</td>\n      <td>medical_help-0</td>\n      <td>medical_products-0</td>\n      <td>search_and_rescue-0</td>\n      <td>security-0</td>\n      <td>military-0</td>\n      <td>child_alone-0</td>\n      <td>...</td>\n      <td>aid_centers-0</td>\n      <td>other_infrastructure-0</td>\n      <td>weather_related-0</td>\n      <td>floods-0</td>\n      <td>storm-0</td>\n      <td>fire-0</td>\n      <td>earthquake-0</td>\n      <td>cold-0</td>\n      <td>other_weather-0</td>\n      <td>direct_report-0</td>\n    </tr>\n  </tbody>\n</table>\n<p>5 rows × 36 columns</p>\n</div>",
      "text/plain": "     related    request    offer    aid_related    medical_help  \\\n0  related-1  request-0  offer-0  aid_related-0  medical_help-0   \n1  related-1  request-0  offer-0  aid_related-1  medical_help-0   \n2  related-1  request-0  offer-0  aid_related-0  medical_help-0   \n3  related-1  request-1  offer-0  aid_related-1  medical_help-0   \n4  related-1  request-0  offer-0  aid_related-0  medical_help-0   \n\n     medical_products    search_and_rescue    security    military  \\\n0  medical_products-0  search_and_rescue-0  security-0  military-0   \n1  medical_products-0  search_and_rescue-0  security-0  military-0   \n2  medical_products-0  search_and_rescue-0  security-0  military-0   \n3  medical_products-1  search_and_rescue-0  security-0  military-0   \n4  medical_products-0  search_and_rescue-0  security-0  military-0   \n\n     child_alone  ...    aid_centers    other_infrastructure  \\\n0  child_alone-0  ...  aid_centers-0  other_infrastructure-0   \n1  child_alone-0  ...  aid_centers-0  other_infrastructure-0   \n2  child_alone-0  ...  aid_centers-0  other_infrastructure-0   \n3  child_alone-0  ...  aid_centers-0  other_infrastructure-0   \n4  child_alone-0  ...  aid_centers-0  other_infrastructure-0   \n\n     weather_related    floods    storm    fire    earthquake    cold  \\\n0  weather_related-0  floods-0  storm-0  fire-0  earthquake-0  cold-0   \n1  weather_related-1  floods-0  storm-1  fire-0  earthquake-0  cold-0   \n2  weather_related-0  floods-0  storm-0  fire-0  earthquake-0  cold-0   \n3  weather_related-0  floods-0  storm-0  fire-0  earthquake-0  cold-0   \n4  weather_related-0  floods-0  storm-0  fire-0  earthquake-0  cold-0   \n\n     other_weather    direct_report  \n0  other_weather-0  direct_report-0  \n1  other_weather-0  direct_report-0  \n2  other_weather-0  direct_report-0  \n3  other_weather-0  direct_report-0  \n4  other_weather-0  direct_report-0  \n\n[5 rows x 36 columns]"
     },
     "execution_count": 360,
     "metadata": {},
     "output_type": "execute_result"
    }
   ],
   "source": [
    "# rename the columns of `categories`\n",
    "categories.columns = category_colnames\n",
    "categories.head()"
   ]
  },
  {
   "cell_type": "markdown",
   "metadata": {},
   "source": [
    "### 4. Convert category values to just numbers 0 or 1.\n",
    "- Iterate through the category columns in df to keep only the last character of each string (the 1 or 0). For example, `related-0` becomes `0`, `related-1` becomes `1`. Convert the string to a numeric value.\n",
    "- You can perform [normal string actions on Pandas Series](https://pandas.pydata.org/pandas-docs/stable/text.html#indexing-with-str), like indexing, by including `.str` after the Series. You may need to first convert the Series to be of type string, which you can do with `astype(str)`."
   ]
  },
  {
   "cell_type": "code",
   "execution_count": 361,
   "metadata": {},
   "outputs": [
    {
     "data": {
      "text/html": "<div>\n<style scoped>\n    .dataframe tbody tr th:only-of-type {\n        vertical-align: middle;\n    }\n\n    .dataframe tbody tr th {\n        vertical-align: top;\n    }\n\n    .dataframe thead th {\n        text-align: right;\n    }\n</style>\n<table border=\"1\" class=\"dataframe\">\n  <thead>\n    <tr style=\"text-align: right;\">\n      <th></th>\n      <th>related</th>\n      <th>request</th>\n      <th>offer</th>\n      <th>aid_related</th>\n      <th>medical_help</th>\n      <th>medical_products</th>\n      <th>search_and_rescue</th>\n      <th>security</th>\n      <th>military</th>\n      <th>child_alone</th>\n      <th>...</th>\n      <th>aid_centers</th>\n      <th>other_infrastructure</th>\n      <th>weather_related</th>\n      <th>floods</th>\n      <th>storm</th>\n      <th>fire</th>\n      <th>earthquake</th>\n      <th>cold</th>\n      <th>other_weather</th>\n      <th>direct_report</th>\n    </tr>\n  </thead>\n  <tbody>\n    <tr>\n      <th>0</th>\n      <td>1</td>\n      <td>0</td>\n      <td>0</td>\n      <td>0</td>\n      <td>0</td>\n      <td>0</td>\n      <td>0</td>\n      <td>0</td>\n      <td>0</td>\n      <td>0</td>\n      <td>...</td>\n      <td>0</td>\n      <td>0</td>\n      <td>0</td>\n      <td>0</td>\n      <td>0</td>\n      <td>0</td>\n      <td>0</td>\n      <td>0</td>\n      <td>0</td>\n      <td>0</td>\n    </tr>\n    <tr>\n      <th>1</th>\n      <td>1</td>\n      <td>0</td>\n      <td>0</td>\n      <td>1</td>\n      <td>0</td>\n      <td>0</td>\n      <td>0</td>\n      <td>0</td>\n      <td>0</td>\n      <td>0</td>\n      <td>...</td>\n      <td>0</td>\n      <td>0</td>\n      <td>1</td>\n      <td>0</td>\n      <td>1</td>\n      <td>0</td>\n      <td>0</td>\n      <td>0</td>\n      <td>0</td>\n      <td>0</td>\n    </tr>\n    <tr>\n      <th>2</th>\n      <td>1</td>\n      <td>0</td>\n      <td>0</td>\n      <td>0</td>\n      <td>0</td>\n      <td>0</td>\n      <td>0</td>\n      <td>0</td>\n      <td>0</td>\n      <td>0</td>\n      <td>...</td>\n      <td>0</td>\n      <td>0</td>\n      <td>0</td>\n      <td>0</td>\n      <td>0</td>\n      <td>0</td>\n      <td>0</td>\n      <td>0</td>\n      <td>0</td>\n      <td>0</td>\n    </tr>\n    <tr>\n      <th>3</th>\n      <td>1</td>\n      <td>1</td>\n      <td>0</td>\n      <td>1</td>\n      <td>0</td>\n      <td>1</td>\n      <td>0</td>\n      <td>0</td>\n      <td>0</td>\n      <td>0</td>\n      <td>...</td>\n      <td>0</td>\n      <td>0</td>\n      <td>0</td>\n      <td>0</td>\n      <td>0</td>\n      <td>0</td>\n      <td>0</td>\n      <td>0</td>\n      <td>0</td>\n      <td>0</td>\n    </tr>\n    <tr>\n      <th>4</th>\n      <td>1</td>\n      <td>0</td>\n      <td>0</td>\n      <td>0</td>\n      <td>0</td>\n      <td>0</td>\n      <td>0</td>\n      <td>0</td>\n      <td>0</td>\n      <td>0</td>\n      <td>...</td>\n      <td>0</td>\n      <td>0</td>\n      <td>0</td>\n      <td>0</td>\n      <td>0</td>\n      <td>0</td>\n      <td>0</td>\n      <td>0</td>\n      <td>0</td>\n      <td>0</td>\n    </tr>\n  </tbody>\n</table>\n<p>5 rows × 36 columns</p>\n</div>",
      "text/plain": "   related  request  offer  aid_related  medical_help  medical_products  \\\n0        1        0      0            0             0                 0   \n1        1        0      0            1             0                 0   \n2        1        0      0            0             0                 0   \n3        1        1      0            1             0                 1   \n4        1        0      0            0             0                 0   \n\n   search_and_rescue  security  military  child_alone  ...  aid_centers  \\\n0                  0         0         0            0  ...            0   \n1                  0         0         0            0  ...            0   \n2                  0         0         0            0  ...            0   \n3                  0         0         0            0  ...            0   \n4                  0         0         0            0  ...            0   \n\n   other_infrastructure  weather_related  floods  storm  fire  earthquake  \\\n0                     0                0       0      0     0           0   \n1                     0                1       0      1     0           0   \n2                     0                0       0      0     0           0   \n3                     0                0       0      0     0           0   \n4                     0                0       0      0     0           0   \n\n   cold  other_weather  direct_report  \n0     0              0              0  \n1     0              0              0  \n2     0              0              0  \n3     0              0              0  \n4     0              0              0  \n\n[5 rows x 36 columns]"
     },
     "execution_count": 361,
     "metadata": {},
     "output_type": "execute_result"
    }
   ],
   "source": [
    "for column in categories:\n",
    "    # set each value to be the last character of the string\n",
    "    categories[column] = categories[column].str[-1]\n",
    "    \n",
    "    # convert column from string to numeric\n",
    "    categories[column] = categories[column].astype(int)\n",
    "categories.head()"
   ]
  },
  {
   "cell_type": "markdown",
   "metadata": {},
   "source": [
    "### 5. Replace `categories` column in `df` with new category columns.\n",
    "- Drop the categories column from the df dataframe since it is no longer needed.\n",
    "- Concatenate df and categories data frames."
   ]
  },
  {
   "cell_type": "code",
   "execution_count": 362,
   "metadata": {},
   "outputs": [
    {
     "data": {
      "text/html": "<div>\n<style scoped>\n    .dataframe tbody tr th:only-of-type {\n        vertical-align: middle;\n    }\n\n    .dataframe tbody tr th {\n        vertical-align: top;\n    }\n\n    .dataframe thead th {\n        text-align: right;\n    }\n</style>\n<table border=\"1\" class=\"dataframe\">\n  <thead>\n    <tr style=\"text-align: right;\">\n      <th></th>\n      <th>id</th>\n      <th>message</th>\n      <th>original</th>\n      <th>genre</th>\n    </tr>\n  </thead>\n  <tbody>\n    <tr>\n      <th>0</th>\n      <td>2</td>\n      <td>Weather update - a cold front from Cuba that c...</td>\n      <td>Un front froid se retrouve sur Cuba ce matin. ...</td>\n      <td>direct</td>\n    </tr>\n    <tr>\n      <th>1</th>\n      <td>7</td>\n      <td>Is the Hurricane over or is it not over</td>\n      <td>Cyclone nan fini osinon li pa fini</td>\n      <td>direct</td>\n    </tr>\n    <tr>\n      <th>2</th>\n      <td>8</td>\n      <td>Looking for someone but no name</td>\n      <td>Patnm, di Maryani relem pou li banm nouvel li ...</td>\n      <td>direct</td>\n    </tr>\n    <tr>\n      <th>3</th>\n      <td>9</td>\n      <td>UN reports Leogane 80-90 destroyed. Only Hospi...</td>\n      <td>UN reports Leogane 80-90 destroyed. Only Hospi...</td>\n      <td>direct</td>\n    </tr>\n    <tr>\n      <th>4</th>\n      <td>12</td>\n      <td>says: west side of Haiti, rest of the country ...</td>\n      <td>facade ouest d Haiti et le reste du pays aujou...</td>\n      <td>direct</td>\n    </tr>\n  </tbody>\n</table>\n</div>",
      "text/plain": "   id                                            message  \\\n0   2  Weather update - a cold front from Cuba that c...   \n1   7            Is the Hurricane over or is it not over   \n2   8                    Looking for someone but no name   \n3   9  UN reports Leogane 80-90 destroyed. Only Hospi...   \n4  12  says: west side of Haiti, rest of the country ...   \n\n                                            original   genre  \n0  Un front froid se retrouve sur Cuba ce matin. ...  direct  \n1                 Cyclone nan fini osinon li pa fini  direct  \n2  Patnm, di Maryani relem pou li banm nouvel li ...  direct  \n3  UN reports Leogane 80-90 destroyed. Only Hospi...  direct  \n4  facade ouest d Haiti et le reste du pays aujou...  direct  "
     },
     "execution_count": 362,
     "metadata": {},
     "output_type": "execute_result"
    }
   ],
   "source": [
    "# drop the original categories column from `df`\n",
    "df.drop(columns='categories', inplace=True)\n",
    "\n",
    "df.head()"
   ]
  },
  {
   "cell_type": "code",
   "execution_count": 363,
   "metadata": {},
   "outputs": [
    {
     "data": {
      "text/html": "<div>\n<style scoped>\n    .dataframe tbody tr th:only-of-type {\n        vertical-align: middle;\n    }\n\n    .dataframe tbody tr th {\n        vertical-align: top;\n    }\n\n    .dataframe thead th {\n        text-align: right;\n    }\n</style>\n<table border=\"1\" class=\"dataframe\">\n  <thead>\n    <tr style=\"text-align: right;\">\n      <th></th>\n      <th>id</th>\n      <th>message</th>\n      <th>original</th>\n      <th>genre</th>\n      <th>related</th>\n      <th>request</th>\n      <th>offer</th>\n      <th>aid_related</th>\n      <th>medical_help</th>\n      <th>medical_products</th>\n      <th>...</th>\n      <th>aid_centers</th>\n      <th>other_infrastructure</th>\n      <th>weather_related</th>\n      <th>floods</th>\n      <th>storm</th>\n      <th>fire</th>\n      <th>earthquake</th>\n      <th>cold</th>\n      <th>other_weather</th>\n      <th>direct_report</th>\n    </tr>\n  </thead>\n  <tbody>\n    <tr>\n      <th>0</th>\n      <td>2</td>\n      <td>Weather update - a cold front from Cuba that c...</td>\n      <td>Un front froid se retrouve sur Cuba ce matin. ...</td>\n      <td>direct</td>\n      <td>1</td>\n      <td>0</td>\n      <td>0</td>\n      <td>0</td>\n      <td>0</td>\n      <td>0</td>\n      <td>...</td>\n      <td>0</td>\n      <td>0</td>\n      <td>0</td>\n      <td>0</td>\n      <td>0</td>\n      <td>0</td>\n      <td>0</td>\n      <td>0</td>\n      <td>0</td>\n      <td>0</td>\n    </tr>\n    <tr>\n      <th>1</th>\n      <td>7</td>\n      <td>Is the Hurricane over or is it not over</td>\n      <td>Cyclone nan fini osinon li pa fini</td>\n      <td>direct</td>\n      <td>1</td>\n      <td>0</td>\n      <td>0</td>\n      <td>1</td>\n      <td>0</td>\n      <td>0</td>\n      <td>...</td>\n      <td>0</td>\n      <td>0</td>\n      <td>1</td>\n      <td>0</td>\n      <td>1</td>\n      <td>0</td>\n      <td>0</td>\n      <td>0</td>\n      <td>0</td>\n      <td>0</td>\n    </tr>\n    <tr>\n      <th>2</th>\n      <td>8</td>\n      <td>Looking for someone but no name</td>\n      <td>Patnm, di Maryani relem pou li banm nouvel li ...</td>\n      <td>direct</td>\n      <td>1</td>\n      <td>0</td>\n      <td>0</td>\n      <td>0</td>\n      <td>0</td>\n      <td>0</td>\n      <td>...</td>\n      <td>0</td>\n      <td>0</td>\n      <td>0</td>\n      <td>0</td>\n      <td>0</td>\n      <td>0</td>\n      <td>0</td>\n      <td>0</td>\n      <td>0</td>\n      <td>0</td>\n    </tr>\n    <tr>\n      <th>3</th>\n      <td>9</td>\n      <td>UN reports Leogane 80-90 destroyed. Only Hospi...</td>\n      <td>UN reports Leogane 80-90 destroyed. Only Hospi...</td>\n      <td>direct</td>\n      <td>1</td>\n      <td>1</td>\n      <td>0</td>\n      <td>1</td>\n      <td>0</td>\n      <td>1</td>\n      <td>...</td>\n      <td>0</td>\n      <td>0</td>\n      <td>0</td>\n      <td>0</td>\n      <td>0</td>\n      <td>0</td>\n      <td>0</td>\n      <td>0</td>\n      <td>0</td>\n      <td>0</td>\n    </tr>\n    <tr>\n      <th>4</th>\n      <td>12</td>\n      <td>says: west side of Haiti, rest of the country ...</td>\n      <td>facade ouest d Haiti et le reste du pays aujou...</td>\n      <td>direct</td>\n      <td>1</td>\n      <td>0</td>\n      <td>0</td>\n      <td>0</td>\n      <td>0</td>\n      <td>0</td>\n      <td>...</td>\n      <td>0</td>\n      <td>0</td>\n      <td>0</td>\n      <td>0</td>\n      <td>0</td>\n      <td>0</td>\n      <td>0</td>\n      <td>0</td>\n      <td>0</td>\n      <td>0</td>\n    </tr>\n  </tbody>\n</table>\n<p>5 rows × 40 columns</p>\n</div>",
      "text/plain": "   id                                            message  \\\n0   2  Weather update - a cold front from Cuba that c...   \n1   7            Is the Hurricane over or is it not over   \n2   8                    Looking for someone but no name   \n3   9  UN reports Leogane 80-90 destroyed. Only Hospi...   \n4  12  says: west side of Haiti, rest of the country ...   \n\n                                            original   genre  related  \\\n0  Un front froid se retrouve sur Cuba ce matin. ...  direct        1   \n1                 Cyclone nan fini osinon li pa fini  direct        1   \n2  Patnm, di Maryani relem pou li banm nouvel li ...  direct        1   \n3  UN reports Leogane 80-90 destroyed. Only Hospi...  direct        1   \n4  facade ouest d Haiti et le reste du pays aujou...  direct        1   \n\n   request  offer  aid_related  medical_help  medical_products  ...  \\\n0        0      0            0             0                 0  ...   \n1        0      0            1             0                 0  ...   \n2        0      0            0             0                 0  ...   \n3        1      0            1             0                 1  ...   \n4        0      0            0             0                 0  ...   \n\n   aid_centers  other_infrastructure  weather_related  floods  storm  fire  \\\n0            0                     0                0       0      0     0   \n1            0                     0                1       0      1     0   \n2            0                     0                0       0      0     0   \n3            0                     0                0       0      0     0   \n4            0                     0                0       0      0     0   \n\n   earthquake  cold  other_weather  direct_report  \n0           0     0              0              0  \n1           0     0              0              0  \n2           0     0              0              0  \n3           0     0              0              0  \n4           0     0              0              0  \n\n[5 rows x 40 columns]"
     },
     "execution_count": 363,
     "metadata": {},
     "output_type": "execute_result"
    }
   ],
   "source": [
    "# concatenate the original dataframe with the new `categories` dataframe\n",
    "df = pd.concat([df, categories], axis=1)\n",
    "df.head()"
   ]
  },
  {
   "cell_type": "markdown",
   "metadata": {},
   "source": [
    "### 6. Verify data integrity"
   ]
  },
  {
   "cell_type": "code",
   "execution_count": 364,
   "metadata": {},
   "outputs": [],
   "source": [
    "# replace for empty messages\n",
    "df.replace(r'^\\s*$', np.nan, regex=True, inplace=True)"
   ]
  },
  {
   "cell_type": "code",
   "execution_count": 365,
   "metadata": {},
   "outputs": [
    {
     "data": {
      "text/plain": "id                            0\nmessage                       2\noriginal                  16140\ngenre                         0\nrelated                       0\nrequest                       0\noffer                         0\naid_related                   0\nmedical_help                  0\nmedical_products              0\nsearch_and_rescue             0\nsecurity                      0\nmilitary                      0\nchild_alone                   0\nwater                         0\nfood                          0\nshelter                       0\nclothing                      0\nmoney                         0\nmissing_people                0\nrefugees                      0\ndeath                         0\nother_aid                     0\ninfrastructure_related        0\ntransport                     0\nbuildings                     0\nelectricity                   0\ntools                         0\nhospitals                     0\nshops                         0\naid_centers                   0\nother_infrastructure          0\nweather_related               0\nfloods                        0\nstorm                         0\nfire                          0\nearthquake                    0\ncold                          0\nother_weather                 0\ndirect_report                 0\ndtype: int64"
     },
     "execution_count": 365,
     "metadata": {},
     "output_type": "execute_result"
    }
   ],
   "source": [
    "# missing values\n",
    "df.isna().sum()"
   ]
  },
  {
   "cell_type": "code",
   "execution_count": 366,
   "metadata": {},
   "outputs": [],
   "source": [
    "# drop `original` column\n",
    "df.drop(columns='original', inplace=True)"
   ]
  },
  {
   "cell_type": "code",
   "execution_count": 367,
   "metadata": {},
   "outputs": [
    {
     "data": {
      "text/html": "<div>\n<style scoped>\n    .dataframe tbody tr th:only-of-type {\n        vertical-align: middle;\n    }\n\n    .dataframe tbody tr th {\n        vertical-align: top;\n    }\n\n    .dataframe thead th {\n        text-align: right;\n    }\n</style>\n<table border=\"1\" class=\"dataframe\">\n  <thead>\n    <tr style=\"text-align: right;\">\n      <th></th>\n      <th>id</th>\n      <th>message</th>\n      <th>genre</th>\n      <th>related</th>\n      <th>request</th>\n      <th>offer</th>\n      <th>aid_related</th>\n      <th>medical_help</th>\n      <th>medical_products</th>\n      <th>search_and_rescue</th>\n      <th>...</th>\n      <th>aid_centers</th>\n      <th>other_infrastructure</th>\n      <th>weather_related</th>\n      <th>floods</th>\n      <th>storm</th>\n      <th>fire</th>\n      <th>earthquake</th>\n      <th>cold</th>\n      <th>other_weather</th>\n      <th>direct_report</th>\n    </tr>\n  </thead>\n  <tbody>\n    <tr>\n      <th>12293</th>\n      <td>14315</td>\n      <td>NaN</td>\n      <td>direct</td>\n      <td>1</td>\n      <td>0</td>\n      <td>0</td>\n      <td>0</td>\n      <td>0</td>\n      <td>0</td>\n      <td>0</td>\n      <td>...</td>\n      <td>0</td>\n      <td>0</td>\n      <td>0</td>\n      <td>0</td>\n      <td>0</td>\n      <td>0</td>\n      <td>0</td>\n      <td>0</td>\n      <td>0</td>\n      <td>0</td>\n    </tr>\n    <tr>\n      <th>12330</th>\n      <td>14428</td>\n      <td>NaN</td>\n      <td>direct</td>\n      <td>2</td>\n      <td>0</td>\n      <td>0</td>\n      <td>0</td>\n      <td>0</td>\n      <td>0</td>\n      <td>0</td>\n      <td>...</td>\n      <td>0</td>\n      <td>0</td>\n      <td>0</td>\n      <td>0</td>\n      <td>0</td>\n      <td>0</td>\n      <td>0</td>\n      <td>0</td>\n      <td>0</td>\n      <td>0</td>\n    </tr>\n  </tbody>\n</table>\n<p>2 rows × 39 columns</p>\n</div>",
      "text/plain": "          id message   genre  related  request  offer  aid_related  \\\n12293  14315     NaN  direct        1        0      0            0   \n12330  14428     NaN  direct        2        0      0            0   \n\n       medical_help  medical_products  search_and_rescue  ...  aid_centers  \\\n12293             0                 0                  0  ...            0   \n12330             0                 0                  0  ...            0   \n\n       other_infrastructure  weather_related  floods  storm  fire  earthquake  \\\n12293                     0                0       0      0     0           0   \n12330                     0                0       0      0     0           0   \n\n       cold  other_weather  direct_report  \n12293     0              0              0  \n12330     0              0              0  \n\n[2 rows x 39 columns]"
     },
     "execution_count": 367,
     "metadata": {},
     "output_type": "execute_result"
    }
   ],
   "source": [
    "# Examine missing message entries\n",
    "df[df.message.isna()]"
   ]
  },
  {
   "cell_type": "code",
   "execution_count": 368,
   "metadata": {},
   "outputs": [
    {
     "data": {
      "text/plain": "0"
     },
     "execution_count": 368,
     "metadata": {},
     "output_type": "execute_result"
    }
   ],
   "source": [
    "# Drop missing values and verify\n",
    "df.dropna(inplace=True)\n",
    "df.isna().sum().sum()"
   ]
  },
  {
   "cell_type": "code",
   "execution_count": 369,
   "metadata": {},
   "outputs": [
    {
     "data": {
      "text/html": "<div>\n<style scoped>\n    .dataframe tbody tr th:only-of-type {\n        vertical-align: middle;\n    }\n\n    .dataframe tbody tr th {\n        vertical-align: top;\n    }\n\n    .dataframe thead th {\n        text-align: right;\n    }\n</style>\n<table border=\"1\" class=\"dataframe\">\n  <thead>\n    <tr style=\"text-align: right;\">\n      <th></th>\n      <th>id</th>\n      <th>message</th>\n      <th>genre</th>\n      <th>related</th>\n      <th>request</th>\n      <th>offer</th>\n      <th>aid_related</th>\n      <th>medical_help</th>\n      <th>medical_products</th>\n      <th>search_and_rescue</th>\n      <th>...</th>\n      <th>aid_centers</th>\n      <th>other_infrastructure</th>\n      <th>weather_related</th>\n      <th>floods</th>\n      <th>storm</th>\n      <th>fire</th>\n      <th>earthquake</th>\n      <th>cold</th>\n      <th>other_weather</th>\n      <th>direct_report</th>\n    </tr>\n  </thead>\n  <tbody>\n    <tr>\n      <th>162</th>\n      <td>202</td>\n      <td>?? port au prince ?? and food. they need gover...</td>\n      <td>direct</td>\n      <td>1</td>\n      <td>1</td>\n      <td>0</td>\n      <td>1</td>\n      <td>0</td>\n      <td>0</td>\n      <td>0</td>\n      <td>...</td>\n      <td>0</td>\n      <td>0</td>\n      <td>0</td>\n      <td>0</td>\n      <td>0</td>\n      <td>0</td>\n      <td>0</td>\n      <td>0</td>\n      <td>0</td>\n      <td>0</td>\n    </tr>\n    <tr>\n      <th>163</th>\n      <td>202</td>\n      <td>?? port au prince ?? and food. they need gover...</td>\n      <td>direct</td>\n      <td>1</td>\n      <td>1</td>\n      <td>0</td>\n      <td>1</td>\n      <td>0</td>\n      <td>0</td>\n      <td>0</td>\n      <td>...</td>\n      <td>0</td>\n      <td>0</td>\n      <td>0</td>\n      <td>0</td>\n      <td>0</td>\n      <td>0</td>\n      <td>0</td>\n      <td>0</td>\n      <td>0</td>\n      <td>0</td>\n    </tr>\n    <tr>\n      <th>164</th>\n      <td>202</td>\n      <td>?? port au prince ?? and food. they need gover...</td>\n      <td>direct</td>\n      <td>1</td>\n      <td>1</td>\n      <td>0</td>\n      <td>1</td>\n      <td>0</td>\n      <td>0</td>\n      <td>0</td>\n      <td>...</td>\n      <td>0</td>\n      <td>0</td>\n      <td>0</td>\n      <td>0</td>\n      <td>0</td>\n      <td>0</td>\n      <td>0</td>\n      <td>0</td>\n      <td>0</td>\n      <td>0</td>\n    </tr>\n    <tr>\n      <th>165</th>\n      <td>202</td>\n      <td>?? port au prince ?? and food. they need gover...</td>\n      <td>direct</td>\n      <td>1</td>\n      <td>1</td>\n      <td>0</td>\n      <td>1</td>\n      <td>0</td>\n      <td>0</td>\n      <td>0</td>\n      <td>...</td>\n      <td>0</td>\n      <td>0</td>\n      <td>0</td>\n      <td>0</td>\n      <td>0</td>\n      <td>0</td>\n      <td>0</td>\n      <td>0</td>\n      <td>0</td>\n      <td>0</td>\n    </tr>\n    <tr>\n      <th>657</th>\n      <td>804</td>\n      <td>elle est vraiment malade et a besoin d'aide. u...</td>\n      <td>direct</td>\n      <td>2</td>\n      <td>0</td>\n      <td>0</td>\n      <td>0</td>\n      <td>0</td>\n      <td>0</td>\n      <td>0</td>\n      <td>...</td>\n      <td>0</td>\n      <td>0</td>\n      <td>0</td>\n      <td>0</td>\n      <td>0</td>\n      <td>0</td>\n      <td>0</td>\n      <td>0</td>\n      <td>0</td>\n      <td>0</td>\n    </tr>\n    <tr>\n      <th>...</th>\n      <td>...</td>\n      <td>...</td>\n      <td>...</td>\n      <td>...</td>\n      <td>...</td>\n      <td>...</td>\n      <td>...</td>\n      <td>...</td>\n      <td>...</td>\n      <td>...</td>\n      <td>...</td>\n      <td>...</td>\n      <td>...</td>\n      <td>...</td>\n      <td>...</td>\n      <td>...</td>\n      <td>...</td>\n      <td>...</td>\n      <td>...</td>\n      <td>...</td>\n      <td>...</td>\n    </tr>\n    <tr>\n      <th>25292</th>\n      <td>29022</td>\n      <td>In a field in Jallouzai, just inside Pakistan,...</td>\n      <td>news</td>\n      <td>1</td>\n      <td>0</td>\n      <td>0</td>\n      <td>1</td>\n      <td>0</td>\n      <td>1</td>\n      <td>0</td>\n      <td>...</td>\n      <td>0</td>\n      <td>0</td>\n      <td>0</td>\n      <td>0</td>\n      <td>0</td>\n      <td>0</td>\n      <td>0</td>\n      <td>0</td>\n      <td>0</td>\n      <td>0</td>\n    </tr>\n    <tr>\n      <th>25377</th>\n      <td>29119</td>\n      <td>Most victims (90 per cent) show little or no s...</td>\n      <td>news</td>\n      <td>1</td>\n      <td>0</td>\n      <td>0</td>\n      <td>1</td>\n      <td>1</td>\n      <td>0</td>\n      <td>0</td>\n      <td>...</td>\n      <td>0</td>\n      <td>0</td>\n      <td>0</td>\n      <td>0</td>\n      <td>0</td>\n      <td>0</td>\n      <td>0</td>\n      <td>0</td>\n      <td>0</td>\n      <td>0</td>\n    </tr>\n    <tr>\n      <th>25378</th>\n      <td>29119</td>\n      <td>Most victims (90 per cent) show little or no s...</td>\n      <td>news</td>\n      <td>1</td>\n      <td>0</td>\n      <td>0</td>\n      <td>1</td>\n      <td>1</td>\n      <td>0</td>\n      <td>0</td>\n      <td>...</td>\n      <td>0</td>\n      <td>0</td>\n      <td>0</td>\n      <td>0</td>\n      <td>0</td>\n      <td>0</td>\n      <td>0</td>\n      <td>0</td>\n      <td>0</td>\n      <td>0</td>\n    </tr>\n    <tr>\n      <th>25379</th>\n      <td>29119</td>\n      <td>Most victims (90 per cent) show little or no s...</td>\n      <td>news</td>\n      <td>1</td>\n      <td>0</td>\n      <td>0</td>\n      <td>1</td>\n      <td>1</td>\n      <td>0</td>\n      <td>0</td>\n      <td>...</td>\n      <td>0</td>\n      <td>0</td>\n      <td>0</td>\n      <td>0</td>\n      <td>0</td>\n      <td>0</td>\n      <td>0</td>\n      <td>0</td>\n      <td>0</td>\n      <td>0</td>\n    </tr>\n    <tr>\n      <th>25380</th>\n      <td>29119</td>\n      <td>Most victims (90 per cent) show little or no s...</td>\n      <td>news</td>\n      <td>1</td>\n      <td>0</td>\n      <td>0</td>\n      <td>1</td>\n      <td>1</td>\n      <td>0</td>\n      <td>0</td>\n      <td>...</td>\n      <td>0</td>\n      <td>0</td>\n      <td>0</td>\n      <td>0</td>\n      <td>0</td>\n      <td>0</td>\n      <td>0</td>\n      <td>0</td>\n      <td>0</td>\n      <td>0</td>\n    </tr>\n  </tbody>\n</table>\n<p>277 rows × 39 columns</p>\n</div>",
      "text/plain": "          id                                            message   genre  \\\n162      202  ?? port au prince ?? and food. they need gover...  direct   \n163      202  ?? port au prince ?? and food. they need gover...  direct   \n164      202  ?? port au prince ?? and food. they need gover...  direct   \n165      202  ?? port au prince ?? and food. they need gover...  direct   \n657      804  elle est vraiment malade et a besoin d'aide. u...  direct   \n...      ...                                                ...     ...   \n25292  29022  In a field in Jallouzai, just inside Pakistan,...    news   \n25377  29119  Most victims (90 per cent) show little or no s...    news   \n25378  29119  Most victims (90 per cent) show little or no s...    news   \n25379  29119  Most victims (90 per cent) show little or no s...    news   \n25380  29119  Most victims (90 per cent) show little or no s...    news   \n\n       related  request  offer  aid_related  medical_help  medical_products  \\\n162          1        1      0            1             0                 0   \n163          1        1      0            1             0                 0   \n164          1        1      0            1             0                 0   \n165          1        1      0            1             0                 0   \n657          2        0      0            0             0                 0   \n...        ...      ...    ...          ...           ...               ...   \n25292        1        0      0            1             0                 1   \n25377        1        0      0            1             1                 0   \n25378        1        0      0            1             1                 0   \n25379        1        0      0            1             1                 0   \n25380        1        0      0            1             1                 0   \n\n       search_and_rescue  ...  aid_centers  other_infrastructure  \\\n162                    0  ...            0                     0   \n163                    0  ...            0                     0   \n164                    0  ...            0                     0   \n165                    0  ...            0                     0   \n657                    0  ...            0                     0   \n...                  ...  ...          ...                   ...   \n25292                  0  ...            0                     0   \n25377                  0  ...            0                     0   \n25378                  0  ...            0                     0   \n25379                  0  ...            0                     0   \n25380                  0  ...            0                     0   \n\n       weather_related  floods  storm  fire  earthquake  cold  other_weather  \\\n162                  0       0      0     0           0     0              0   \n163                  0       0      0     0           0     0              0   \n164                  0       0      0     0           0     0              0   \n165                  0       0      0     0           0     0              0   \n657                  0       0      0     0           0     0              0   \n...                ...     ...    ...   ...         ...   ...            ...   \n25292                0       0      0     0           0     0              0   \n25377                0       0      0     0           0     0              0   \n25378                0       0      0     0           0     0              0   \n25379                0       0      0     0           0     0              0   \n25380                0       0      0     0           0     0              0   \n\n       direct_report  \n162                0  \n163                0  \n164                0  \n165                0  \n657                0  \n...              ...  \n25292              0  \n25377              0  \n25378              0  \n25379              0  \n25380              0  \n\n[277 rows x 39 columns]"
     },
     "execution_count": 369,
     "metadata": {},
     "output_type": "execute_result"
    }
   ],
   "source": [
    "# Examine duplicates\n",
    "df[df.duplicated(subset='message', keep=False)]"
   ]
  },
  {
   "cell_type": "code",
   "execution_count": 370,
   "metadata": {},
   "outputs": [],
   "source": [
    "df.drop_duplicates(subset='message', inplace=True)"
   ]
  },
  {
   "cell_type": "code",
   "execution_count": 371,
   "metadata": {},
   "outputs": [
    {
     "data": {
      "text/plain": "0"
     },
     "execution_count": 371,
     "metadata": {},
     "output_type": "execute_result"
    }
   ],
   "source": [
    "df.duplicated(subset='message').sum()"
   ]
  },
  {
   "cell_type": "code",
   "execution_count": 372,
   "metadata": {},
   "outputs": [
    {
     "data": {
      "text/plain": "0"
     },
     "execution_count": 372,
     "metadata": {},
     "output_type": "execute_result"
    }
   ],
   "source": [
    "df.duplicated().sum()"
   ]
  },
  {
   "cell_type": "code",
   "execution_count": 373,
   "metadata": {},
   "outputs": [
    {
     "data": {
      "text/html": "<div>\n<style scoped>\n    .dataframe tbody tr th:only-of-type {\n        vertical-align: middle;\n    }\n\n    .dataframe tbody tr th {\n        vertical-align: top;\n    }\n\n    .dataframe thead th {\n        text-align: right;\n    }\n</style>\n<table border=\"1\" class=\"dataframe\">\n  <thead>\n    <tr style=\"text-align: right;\">\n      <th></th>\n      <th>id</th>\n      <th>message</th>\n      <th>genre</th>\n      <th>related</th>\n      <th>request</th>\n      <th>offer</th>\n      <th>aid_related</th>\n      <th>medical_help</th>\n      <th>medical_products</th>\n      <th>search_and_rescue</th>\n      <th>...</th>\n      <th>aid_centers</th>\n      <th>other_infrastructure</th>\n      <th>weather_related</th>\n      <th>floods</th>\n      <th>storm</th>\n      <th>fire</th>\n      <th>earthquake</th>\n      <th>cold</th>\n      <th>other_weather</th>\n      <th>direct_report</th>\n    </tr>\n  </thead>\n  <tbody>\n    <tr>\n      <th>16657</th>\n      <td>19448</td>\n      <td>#NAME?</td>\n      <td>news</td>\n      <td>0</td>\n      <td>0</td>\n      <td>0</td>\n      <td>0</td>\n      <td>0</td>\n      <td>0</td>\n      <td>0</td>\n      <td>...</td>\n      <td>0</td>\n      <td>0</td>\n      <td>0</td>\n      <td>0</td>\n      <td>0</td>\n      <td>0</td>\n      <td>0</td>\n      <td>0</td>\n      <td>0</td>\n      <td>0</td>\n    </tr>\n  </tbody>\n</table>\n<p>1 rows × 39 columns</p>\n</div>",
      "text/plain": "          id message genre  related  request  offer  aid_related  \\\n16657  19448  #NAME?  news        0        0      0            0   \n\n       medical_help  medical_products  search_and_rescue  ...  aid_centers  \\\n16657             0                 0                  0  ...            0   \n\n       other_infrastructure  weather_related  floods  storm  fire  earthquake  \\\n16657                     0                0       0      0     0           0   \n\n       cold  other_weather  direct_report  \n16657     0              0              0  \n\n[1 rows x 39 columns]"
     },
     "execution_count": 373,
     "metadata": {},
     "output_type": "execute_result"
    }
   ],
   "source": [
    "df[df.message=='#NAME?']"
   ]
  },
  {
   "cell_type": "code",
   "execution_count": 374,
   "metadata": {},
   "outputs": [],
   "source": [
    "df['message'] = np.where(df.message=='#NAME?', np.nan, df.message)\n",
    "df.dropna(inplace=True)"
   ]
  },
  {
   "cell_type": "code",
   "execution_count": 375,
   "metadata": {},
   "outputs": [
    {
     "data": {
      "text/plain": "0"
     },
     "execution_count": 375,
     "metadata": {},
     "output_type": "execute_result"
    }
   ],
   "source": [
    "df.isna().sum().sum()"
   ]
  },
  {
   "cell_type": "code",
   "execution_count": 376,
   "metadata": {},
   "outputs": [
    {
     "data": {
      "text/html": "<div>\n<style scoped>\n    .dataframe tbody tr th:only-of-type {\n        vertical-align: middle;\n    }\n\n    .dataframe tbody tr th {\n        vertical-align: top;\n    }\n\n    .dataframe thead th {\n        text-align: right;\n    }\n</style>\n<table border=\"1\" class=\"dataframe\">\n  <thead>\n    <tr style=\"text-align: right;\">\n      <th></th>\n      <th>id</th>\n      <th>message</th>\n      <th>genre</th>\n      <th>related</th>\n      <th>request</th>\n      <th>offer</th>\n      <th>aid_related</th>\n      <th>medical_help</th>\n      <th>medical_products</th>\n      <th>search_and_rescue</th>\n      <th>...</th>\n      <th>aid_centers</th>\n      <th>other_infrastructure</th>\n      <th>weather_related</th>\n      <th>floods</th>\n      <th>storm</th>\n      <th>fire</th>\n      <th>earthquake</th>\n      <th>cold</th>\n      <th>other_weather</th>\n      <th>direct_report</th>\n    </tr>\n  </thead>\n  <tbody>\n  </tbody>\n</table>\n<p>0 rows × 39 columns</p>\n</div>",
      "text/plain": "Empty DataFrame\nColumns: [id, message, genre, related, request, offer, aid_related, medical_help, medical_products, search_and_rescue, security, military, child_alone, water, food, shelter, clothing, money, missing_people, refugees, death, other_aid, infrastructure_related, transport, buildings, electricity, tools, hospitals, shops, aid_centers, other_infrastructure, weather_related, floods, storm, fire, earthquake, cold, other_weather, direct_report]\nIndex: []\n\n[0 rows x 39 columns]"
     },
     "execution_count": 376,
     "metadata": {},
     "output_type": "execute_result"
    }
   ],
   "source": [
    "df[df.message=='#NAME?']"
   ]
  },
  {
   "cell_type": "code",
   "execution_count": 377,
   "metadata": {},
   "outputs": [
    {
     "data": {
      "text/html": "<div>\n<style scoped>\n    .dataframe tbody tr th:only-of-type {\n        vertical-align: middle;\n    }\n\n    .dataframe tbody tr th {\n        vertical-align: top;\n    }\n\n    .dataframe thead th {\n        text-align: right;\n    }\n</style>\n<table border=\"1\" class=\"dataframe\">\n  <thead>\n    <tr style=\"text-align: right;\">\n      <th></th>\n      <th>0</th>\n      <th>1</th>\n      <th>2</th>\n    </tr>\n  </thead>\n  <tbody>\n    <tr>\n      <th>related</th>\n      <td>6114.0</td>\n      <td>19873.0</td>\n      <td>187.0</td>\n    </tr>\n    <tr>\n      <th>request</th>\n      <td>21710.0</td>\n      <td>4464.0</td>\n      <td>NaN</td>\n    </tr>\n    <tr>\n      <th>offer</th>\n      <td>26057.0</td>\n      <td>117.0</td>\n      <td>NaN</td>\n    </tr>\n    <tr>\n      <th>aid_related</th>\n      <td>15334.0</td>\n      <td>10840.0</td>\n      <td>NaN</td>\n    </tr>\n    <tr>\n      <th>medical_help</th>\n      <td>24094.0</td>\n      <td>2080.0</td>\n      <td>NaN</td>\n    </tr>\n    <tr>\n      <th>medical_products</th>\n      <td>24864.0</td>\n      <td>1310.0</td>\n      <td>NaN</td>\n    </tr>\n    <tr>\n      <th>search_and_rescue</th>\n      <td>25450.0</td>\n      <td>724.0</td>\n      <td>NaN</td>\n    </tr>\n    <tr>\n      <th>security</th>\n      <td>25703.0</td>\n      <td>471.0</td>\n      <td>NaN</td>\n    </tr>\n    <tr>\n      <th>military</th>\n      <td>25315.0</td>\n      <td>859.0</td>\n      <td>NaN</td>\n    </tr>\n    <tr>\n      <th>child_alone</th>\n      <td>26174.0</td>\n      <td>NaN</td>\n      <td>NaN</td>\n    </tr>\n    <tr>\n      <th>water</th>\n      <td>24505.0</td>\n      <td>1669.0</td>\n      <td>NaN</td>\n    </tr>\n    <tr>\n      <th>food</th>\n      <td>23257.0</td>\n      <td>2917.0</td>\n      <td>NaN</td>\n    </tr>\n    <tr>\n      <th>shelter</th>\n      <td>23866.0</td>\n      <td>2308.0</td>\n      <td>NaN</td>\n    </tr>\n    <tr>\n      <th>clothing</th>\n      <td>25770.0</td>\n      <td>404.0</td>\n      <td>NaN</td>\n    </tr>\n    <tr>\n      <th>money</th>\n      <td>25571.0</td>\n      <td>603.0</td>\n      <td>NaN</td>\n    </tr>\n    <tr>\n      <th>missing_people</th>\n      <td>25876.0</td>\n      <td>298.0</td>\n      <td>NaN</td>\n    </tr>\n    <tr>\n      <th>refugees</th>\n      <td>25300.0</td>\n      <td>874.0</td>\n      <td>NaN</td>\n    </tr>\n    <tr>\n      <th>death</th>\n      <td>24982.0</td>\n      <td>1192.0</td>\n      <td>NaN</td>\n    </tr>\n    <tr>\n      <th>other_aid</th>\n      <td>22733.0</td>\n      <td>3441.0</td>\n      <td>NaN</td>\n    </tr>\n    <tr>\n      <th>infrastructure_related</th>\n      <td>24469.0</td>\n      <td>1705.0</td>\n      <td>NaN</td>\n    </tr>\n    <tr>\n      <th>transport</th>\n      <td>24975.0</td>\n      <td>1199.0</td>\n      <td>NaN</td>\n    </tr>\n    <tr>\n      <th>buildings</th>\n      <td>24843.0</td>\n      <td>1331.0</td>\n      <td>NaN</td>\n    </tr>\n    <tr>\n      <th>electricity</th>\n      <td>25642.0</td>\n      <td>532.0</td>\n      <td>NaN</td>\n    </tr>\n    <tr>\n      <th>tools</th>\n      <td>26015.0</td>\n      <td>159.0</td>\n      <td>NaN</td>\n    </tr>\n    <tr>\n      <th>hospitals</th>\n      <td>25891.0</td>\n      <td>283.0</td>\n      <td>NaN</td>\n    </tr>\n    <tr>\n      <th>shops</th>\n      <td>26054.0</td>\n      <td>120.0</td>\n      <td>NaN</td>\n    </tr>\n    <tr>\n      <th>aid_centers</th>\n      <td>25865.0</td>\n      <td>309.0</td>\n      <td>NaN</td>\n    </tr>\n    <tr>\n      <th>other_infrastructure</th>\n      <td>25023.0</td>\n      <td>1151.0</td>\n      <td>NaN</td>\n    </tr>\n    <tr>\n      <th>weather_related</th>\n      <td>18888.0</td>\n      <td>7286.0</td>\n      <td>NaN</td>\n    </tr>\n    <tr>\n      <th>floods</th>\n      <td>24025.0</td>\n      <td>2149.0</td>\n      <td>NaN</td>\n    </tr>\n    <tr>\n      <th>storm</th>\n      <td>23734.0</td>\n      <td>2440.0</td>\n      <td>NaN</td>\n    </tr>\n    <tr>\n      <th>fire</th>\n      <td>25892.0</td>\n      <td>282.0</td>\n      <td>NaN</td>\n    </tr>\n    <tr>\n      <th>earthquake</th>\n      <td>23722.0</td>\n      <td>2452.0</td>\n      <td>NaN</td>\n    </tr>\n    <tr>\n      <th>cold</th>\n      <td>25646.0</td>\n      <td>528.0</td>\n      <td>NaN</td>\n    </tr>\n    <tr>\n      <th>other_weather</th>\n      <td>24798.0</td>\n      <td>1376.0</td>\n      <td>NaN</td>\n    </tr>\n    <tr>\n      <th>direct_report</th>\n      <td>21111.0</td>\n      <td>5063.0</td>\n      <td>NaN</td>\n    </tr>\n  </tbody>\n</table>\n</div>",
      "text/plain": "                              0        1      2\nrelated                  6114.0  19873.0  187.0\nrequest                 21710.0   4464.0    NaN\noffer                   26057.0    117.0    NaN\naid_related             15334.0  10840.0    NaN\nmedical_help            24094.0   2080.0    NaN\nmedical_products        24864.0   1310.0    NaN\nsearch_and_rescue       25450.0    724.0    NaN\nsecurity                25703.0    471.0    NaN\nmilitary                25315.0    859.0    NaN\nchild_alone             26174.0      NaN    NaN\nwater                   24505.0   1669.0    NaN\nfood                    23257.0   2917.0    NaN\nshelter                 23866.0   2308.0    NaN\nclothing                25770.0    404.0    NaN\nmoney                   25571.0    603.0    NaN\nmissing_people          25876.0    298.0    NaN\nrefugees                25300.0    874.0    NaN\ndeath                   24982.0   1192.0    NaN\nother_aid               22733.0   3441.0    NaN\ninfrastructure_related  24469.0   1705.0    NaN\ntransport               24975.0   1199.0    NaN\nbuildings               24843.0   1331.0    NaN\nelectricity             25642.0    532.0    NaN\ntools                   26015.0    159.0    NaN\nhospitals               25891.0    283.0    NaN\nshops                   26054.0    120.0    NaN\naid_centers             25865.0    309.0    NaN\nother_infrastructure    25023.0   1151.0    NaN\nweather_related         18888.0   7286.0    NaN\nfloods                  24025.0   2149.0    NaN\nstorm                   23734.0   2440.0    NaN\nfire                    25892.0    282.0    NaN\nearthquake              23722.0   2452.0    NaN\ncold                    25646.0    528.0    NaN\nother_weather           24798.0   1376.0    NaN\ndirect_report           21111.0   5063.0    NaN"
     },
     "execution_count": 377,
     "metadata": {},
     "output_type": "execute_result"
    }
   ],
   "source": [
    "# value distributions\n",
    "df.loc[:, 'related':].apply(pd.Series.value_counts).T"
   ]
  },
  {
   "cell_type": "code",
   "execution_count": 378,
   "metadata": {},
   "outputs": [],
   "source": [
    "cats = df.loc[:, 'related':]\n",
    "df.loc[:, 'related':] = np.where(cats > 1, 1, cats)"
   ]
  },
  {
   "cell_type": "code",
   "execution_count": 379,
   "metadata": {},
   "outputs": [
    {
     "data": {
      "text/html": "<div>\n<style scoped>\n    .dataframe tbody tr th:only-of-type {\n        vertical-align: middle;\n    }\n\n    .dataframe tbody tr th {\n        vertical-align: top;\n    }\n\n    .dataframe thead th {\n        text-align: right;\n    }\n</style>\n<table border=\"1\" class=\"dataframe\">\n  <thead>\n    <tr style=\"text-align: right;\">\n      <th></th>\n      <th>0</th>\n      <th>1</th>\n    </tr>\n  </thead>\n  <tbody>\n    <tr>\n      <th>related</th>\n      <td>6114.0</td>\n      <td>20060.0</td>\n    </tr>\n    <tr>\n      <th>request</th>\n      <td>21710.0</td>\n      <td>4464.0</td>\n    </tr>\n    <tr>\n      <th>offer</th>\n      <td>26057.0</td>\n      <td>117.0</td>\n    </tr>\n    <tr>\n      <th>aid_related</th>\n      <td>15334.0</td>\n      <td>10840.0</td>\n    </tr>\n    <tr>\n      <th>medical_help</th>\n      <td>24094.0</td>\n      <td>2080.0</td>\n    </tr>\n    <tr>\n      <th>medical_products</th>\n      <td>24864.0</td>\n      <td>1310.0</td>\n    </tr>\n    <tr>\n      <th>search_and_rescue</th>\n      <td>25450.0</td>\n      <td>724.0</td>\n    </tr>\n    <tr>\n      <th>security</th>\n      <td>25703.0</td>\n      <td>471.0</td>\n    </tr>\n    <tr>\n      <th>military</th>\n      <td>25315.0</td>\n      <td>859.0</td>\n    </tr>\n    <tr>\n      <th>child_alone</th>\n      <td>26174.0</td>\n      <td>NaN</td>\n    </tr>\n    <tr>\n      <th>water</th>\n      <td>24505.0</td>\n      <td>1669.0</td>\n    </tr>\n    <tr>\n      <th>food</th>\n      <td>23257.0</td>\n      <td>2917.0</td>\n    </tr>\n    <tr>\n      <th>shelter</th>\n      <td>23866.0</td>\n      <td>2308.0</td>\n    </tr>\n    <tr>\n      <th>clothing</th>\n      <td>25770.0</td>\n      <td>404.0</td>\n    </tr>\n    <tr>\n      <th>money</th>\n      <td>25571.0</td>\n      <td>603.0</td>\n    </tr>\n    <tr>\n      <th>missing_people</th>\n      <td>25876.0</td>\n      <td>298.0</td>\n    </tr>\n    <tr>\n      <th>refugees</th>\n      <td>25300.0</td>\n      <td>874.0</td>\n    </tr>\n    <tr>\n      <th>death</th>\n      <td>24982.0</td>\n      <td>1192.0</td>\n    </tr>\n    <tr>\n      <th>other_aid</th>\n      <td>22733.0</td>\n      <td>3441.0</td>\n    </tr>\n    <tr>\n      <th>infrastructure_related</th>\n      <td>24469.0</td>\n      <td>1705.0</td>\n    </tr>\n    <tr>\n      <th>transport</th>\n      <td>24975.0</td>\n      <td>1199.0</td>\n    </tr>\n    <tr>\n      <th>buildings</th>\n      <td>24843.0</td>\n      <td>1331.0</td>\n    </tr>\n    <tr>\n      <th>electricity</th>\n      <td>25642.0</td>\n      <td>532.0</td>\n    </tr>\n    <tr>\n      <th>tools</th>\n      <td>26015.0</td>\n      <td>159.0</td>\n    </tr>\n    <tr>\n      <th>hospitals</th>\n      <td>25891.0</td>\n      <td>283.0</td>\n    </tr>\n    <tr>\n      <th>shops</th>\n      <td>26054.0</td>\n      <td>120.0</td>\n    </tr>\n    <tr>\n      <th>aid_centers</th>\n      <td>25865.0</td>\n      <td>309.0</td>\n    </tr>\n    <tr>\n      <th>other_infrastructure</th>\n      <td>25023.0</td>\n      <td>1151.0</td>\n    </tr>\n    <tr>\n      <th>weather_related</th>\n      <td>18888.0</td>\n      <td>7286.0</td>\n    </tr>\n    <tr>\n      <th>floods</th>\n      <td>24025.0</td>\n      <td>2149.0</td>\n    </tr>\n    <tr>\n      <th>storm</th>\n      <td>23734.0</td>\n      <td>2440.0</td>\n    </tr>\n    <tr>\n      <th>fire</th>\n      <td>25892.0</td>\n      <td>282.0</td>\n    </tr>\n    <tr>\n      <th>earthquake</th>\n      <td>23722.0</td>\n      <td>2452.0</td>\n    </tr>\n    <tr>\n      <th>cold</th>\n      <td>25646.0</td>\n      <td>528.0</td>\n    </tr>\n    <tr>\n      <th>other_weather</th>\n      <td>24798.0</td>\n      <td>1376.0</td>\n    </tr>\n    <tr>\n      <th>direct_report</th>\n      <td>21111.0</td>\n      <td>5063.0</td>\n    </tr>\n  </tbody>\n</table>\n</div>",
      "text/plain": "                              0        1\nrelated                  6114.0  20060.0\nrequest                 21710.0   4464.0\noffer                   26057.0    117.0\naid_related             15334.0  10840.0\nmedical_help            24094.0   2080.0\nmedical_products        24864.0   1310.0\nsearch_and_rescue       25450.0    724.0\nsecurity                25703.0    471.0\nmilitary                25315.0    859.0\nchild_alone             26174.0      NaN\nwater                   24505.0   1669.0\nfood                    23257.0   2917.0\nshelter                 23866.0   2308.0\nclothing                25770.0    404.0\nmoney                   25571.0    603.0\nmissing_people          25876.0    298.0\nrefugees                25300.0    874.0\ndeath                   24982.0   1192.0\nother_aid               22733.0   3441.0\ninfrastructure_related  24469.0   1705.0\ntransport               24975.0   1199.0\nbuildings               24843.0   1331.0\nelectricity             25642.0    532.0\ntools                   26015.0    159.0\nhospitals               25891.0    283.0\nshops                   26054.0    120.0\naid_centers             25865.0    309.0\nother_infrastructure    25023.0   1151.0\nweather_related         18888.0   7286.0\nfloods                  24025.0   2149.0\nstorm                   23734.0   2440.0\nfire                    25892.0    282.0\nearthquake              23722.0   2452.0\ncold                    25646.0    528.0\nother_weather           24798.0   1376.0\ndirect_report           21111.0   5063.0"
     },
     "execution_count": 379,
     "metadata": {},
     "output_type": "execute_result"
    }
   ],
   "source": [
    "df.loc[:, 'related':].apply(pd.Series.value_counts).T"
   ]
  },
  {
   "cell_type": "markdown",
   "metadata": {},
   "source": [
    "### 8. Save the clean dataset into an sqlite database.\n",
    "You can do this with pandas [`to_sql` method](https://pandas.pydata.org/pandas-docs/stable/generated/pandas.DataFrame.to_sql.html) combined with the SQLAlchemy library. Remember to import SQLAlchemy's `create_engine` in the first cell of this notebook to use it below."
   ]
  },
  {
   "cell_type": "code",
   "execution_count": 380,
   "metadata": {},
   "outputs": [],
   "source": [
    "# create database connection using sqlite3\n",
    "conn = sqlite3.connect('../data/DisasterResponse.db')\n",
    "cur = conn.cursor()\n",
    "# drop message table if it already exists -- override old data\n",
    "cur.execute('DROP TABLE IF EXISTS message')\n",
    "# save to database\n",
    "df.to_sql('message', conn, index=False)"
   ]
  },
  {
   "cell_type": "markdown",
   "metadata": {},
   "source": [
    "### 9. Summary\n",
    "- Load messages.csv and categories.csv into pandas frames\n",
    "- Merge **`messages`** and **`categories`** into **`df`** on `id`\n",
    "- Parse *`categories`* column:\n",
    "  - Split semicolon delimited list of categories into individual columns\n",
    "  - Rename new columns with category names found in first row: related-1;fire-0; --> related | fire\n",
    "  - Replace 'category-value' strings with integer values only. Example: related-1 --> 1; fire-0 --> 0\n",
    "- Clean data\n",
    "  - Drop *`original`* column\n",
    "  - Drop entries with blank messages\n",
    "  - Drop `#NAME?` messages\n",
    "  - Drop duplicate messages\n",
    "  - Recode *`related`* values > 1 to 1. Example: related=2 --> related=1; related=1 --> related=1\n",
    "- Save data to sqlite database\n",
    "\n",
    "**Notes:**\n",
    "- *`child_only`* category contains only 0 values --> dataset does not contain any messages in labeled with this category"
   ]
  },
  {
   "cell_type": "code",
   "execution_count": null,
   "metadata": {},
   "outputs": [],
   "source": []
  }
 ],
 "metadata": {
  "kernelspec": {
   "display_name": "Python 3",
   "language": "python",
   "name": "python3"
  },
  "language_info": {
   "codemirror_mode": {
    "name": "ipython",
    "version": 3
   },
   "file_extension": ".py",
   "mimetype": "text/x-python",
   "name": "python",
   "nbconvert_exporter": "python",
   "pygments_lexer": "ipython3",
   "version": "3.7.4-final"
  }
 },
 "nbformat": 4,
 "nbformat_minor": 2
}