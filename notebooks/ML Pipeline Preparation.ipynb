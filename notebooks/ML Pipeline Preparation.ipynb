{
 "cells": [
  {
   "cell_type": "markdown",
   "metadata": {},
   "source": [
    "# ML Pipeline Preparation\n",
    "ML for loading clean data from database, preparing it for classification task, training and evaluating a classifier and saving resultant model.\n",
    "### 1. Load data from database."
   ]
  },
  {
   "cell_type": "code",
   "execution_count": 1,
   "metadata": {},
   "outputs": [
    {
     "name": "stderr",
     "output_type": "stream",
     "text": [
      "Using TensorFlow backend.\n"
     ]
    }
   ],
   "source": [
    "# import libraries\n",
    "import sqlite3\n",
    "import pandas as pd\n",
    "import numpy as np\n",
    "import pickle\n",
    "import matplotlib.pyplot as plt\n",
    "%matplotlib inline\n",
    "\n",
    "from imblearn.over_sampling import SMOTE, ADASYN\n",
    "\n",
    "import spacy\n",
    "nlp = spacy.load(\"en_core_web_sm\")\n",
    "spacy_stopwords = spacy.lang.en.stop_words.STOP_WORDS\n",
    "\n",
    "from sklearn.pipeline import Pipeline\n",
    "from sklearn.feature_extraction.text import CountVectorizer, TfidfTransformer\n",
    "from sklearn.ensemble import RandomForestClassifier\n",
    "from sklearn.naive_bayes import ComplementNB\n",
    "from sklearn.multioutput import MultiOutputClassifier\n",
    "from sklearn.model_selection import train_test_split, GridSearchCV\n",
    "from sklearn.metrics import classification_report, f1_score, make_scorer, hamming_loss, recall_score"
   ]
  },
  {
   "cell_type": "code",
   "execution_count": 2,
   "metadata": {},
   "outputs": [],
   "source": [
    "# load data from database\n",
    "conn = sqlite3.connect('../data/DisasterResponse.db')\n",
    "df = pd.read_sql_query('SELECT * FROM message', conn, index_col='id')\n",
    "X = df.message\n",
    "Y = df.loc[:, 'related':]"
   ]
  },
  {
   "cell_type": "code",
   "execution_count": 3,
   "metadata": {},
   "outputs": [
    {
     "data": {
      "text/plain": [
       "id\n",
       "2     Weather update - a cold front from Cuba that c...\n",
       "7               Is the Hurricane over or is it not over\n",
       "8                       Looking for someone but no name\n",
       "9     UN reports Leogane 80-90 destroyed. Only Hospi...\n",
       "12    says: west side of Haiti, rest of the country ...\n",
       "Name: message, dtype: object"
      ]
     },
     "execution_count": 3,
     "metadata": {},
     "output_type": "execute_result"
    }
   ],
   "source": [
    "X.head()"
   ]
  },
  {
   "cell_type": "code",
   "execution_count": 4,
   "metadata": {},
   "outputs": [
    {
     "data": {
      "text/html": [
       "<div>\n",
       "<style scoped>\n",
       "    .dataframe tbody tr th:only-of-type {\n",
       "        vertical-align: middle;\n",
       "    }\n",
       "\n",
       "    .dataframe tbody tr th {\n",
       "        vertical-align: top;\n",
       "    }\n",
       "\n",
       "    .dataframe thead th {\n",
       "        text-align: right;\n",
       "    }\n",
       "</style>\n",
       "<table border=\"1\" class=\"dataframe\">\n",
       "  <thead>\n",
       "    <tr style=\"text-align: right;\">\n",
       "      <th></th>\n",
       "      <th>related</th>\n",
       "      <th>request</th>\n",
       "      <th>offer</th>\n",
       "      <th>aid_related</th>\n",
       "      <th>medical_help</th>\n",
       "      <th>medical_products</th>\n",
       "      <th>search_and_rescue</th>\n",
       "      <th>security</th>\n",
       "      <th>military</th>\n",
       "      <th>child_alone</th>\n",
       "      <th>...</th>\n",
       "      <th>aid_centers</th>\n",
       "      <th>other_infrastructure</th>\n",
       "      <th>weather_related</th>\n",
       "      <th>floods</th>\n",
       "      <th>storm</th>\n",
       "      <th>fire</th>\n",
       "      <th>earthquake</th>\n",
       "      <th>cold</th>\n",
       "      <th>other_weather</th>\n",
       "      <th>direct_report</th>\n",
       "    </tr>\n",
       "    <tr>\n",
       "      <th>id</th>\n",
       "      <th></th>\n",
       "      <th></th>\n",
       "      <th></th>\n",
       "      <th></th>\n",
       "      <th></th>\n",
       "      <th></th>\n",
       "      <th></th>\n",
       "      <th></th>\n",
       "      <th></th>\n",
       "      <th></th>\n",
       "      <th></th>\n",
       "      <th></th>\n",
       "      <th></th>\n",
       "      <th></th>\n",
       "      <th></th>\n",
       "      <th></th>\n",
       "      <th></th>\n",
       "      <th></th>\n",
       "      <th></th>\n",
       "      <th></th>\n",
       "      <th></th>\n",
       "    </tr>\n",
       "  </thead>\n",
       "  <tbody>\n",
       "    <tr>\n",
       "      <th>2</th>\n",
       "      <td>1</td>\n",
       "      <td>0</td>\n",
       "      <td>0</td>\n",
       "      <td>0</td>\n",
       "      <td>0</td>\n",
       "      <td>0</td>\n",
       "      <td>0</td>\n",
       "      <td>0</td>\n",
       "      <td>0</td>\n",
       "      <td>0</td>\n",
       "      <td>...</td>\n",
       "      <td>0</td>\n",
       "      <td>0</td>\n",
       "      <td>0</td>\n",
       "      <td>0</td>\n",
       "      <td>0</td>\n",
       "      <td>0</td>\n",
       "      <td>0</td>\n",
       "      <td>0</td>\n",
       "      <td>0</td>\n",
       "      <td>0</td>\n",
       "    </tr>\n",
       "    <tr>\n",
       "      <th>7</th>\n",
       "      <td>1</td>\n",
       "      <td>0</td>\n",
       "      <td>0</td>\n",
       "      <td>1</td>\n",
       "      <td>0</td>\n",
       "      <td>0</td>\n",
       "      <td>0</td>\n",
       "      <td>0</td>\n",
       "      <td>0</td>\n",
       "      <td>0</td>\n",
       "      <td>...</td>\n",
       "      <td>0</td>\n",
       "      <td>0</td>\n",
       "      <td>1</td>\n",
       "      <td>0</td>\n",
       "      <td>1</td>\n",
       "      <td>0</td>\n",
       "      <td>0</td>\n",
       "      <td>0</td>\n",
       "      <td>0</td>\n",
       "      <td>0</td>\n",
       "    </tr>\n",
       "    <tr>\n",
       "      <th>8</th>\n",
       "      <td>1</td>\n",
       "      <td>0</td>\n",
       "      <td>0</td>\n",
       "      <td>0</td>\n",
       "      <td>0</td>\n",
       "      <td>0</td>\n",
       "      <td>0</td>\n",
       "      <td>0</td>\n",
       "      <td>0</td>\n",
       "      <td>0</td>\n",
       "      <td>...</td>\n",
       "      <td>0</td>\n",
       "      <td>0</td>\n",
       "      <td>0</td>\n",
       "      <td>0</td>\n",
       "      <td>0</td>\n",
       "      <td>0</td>\n",
       "      <td>0</td>\n",
       "      <td>0</td>\n",
       "      <td>0</td>\n",
       "      <td>0</td>\n",
       "    </tr>\n",
       "    <tr>\n",
       "      <th>9</th>\n",
       "      <td>1</td>\n",
       "      <td>1</td>\n",
       "      <td>0</td>\n",
       "      <td>1</td>\n",
       "      <td>0</td>\n",
       "      <td>1</td>\n",
       "      <td>0</td>\n",
       "      <td>0</td>\n",
       "      <td>0</td>\n",
       "      <td>0</td>\n",
       "      <td>...</td>\n",
       "      <td>0</td>\n",
       "      <td>0</td>\n",
       "      <td>0</td>\n",
       "      <td>0</td>\n",
       "      <td>0</td>\n",
       "      <td>0</td>\n",
       "      <td>0</td>\n",
       "      <td>0</td>\n",
       "      <td>0</td>\n",
       "      <td>0</td>\n",
       "    </tr>\n",
       "    <tr>\n",
       "      <th>12</th>\n",
       "      <td>1</td>\n",
       "      <td>0</td>\n",
       "      <td>0</td>\n",
       "      <td>0</td>\n",
       "      <td>0</td>\n",
       "      <td>0</td>\n",
       "      <td>0</td>\n",
       "      <td>0</td>\n",
       "      <td>0</td>\n",
       "      <td>0</td>\n",
       "      <td>...</td>\n",
       "      <td>0</td>\n",
       "      <td>0</td>\n",
       "      <td>0</td>\n",
       "      <td>0</td>\n",
       "      <td>0</td>\n",
       "      <td>0</td>\n",
       "      <td>0</td>\n",
       "      <td>0</td>\n",
       "      <td>0</td>\n",
       "      <td>0</td>\n",
       "    </tr>\n",
       "  </tbody>\n",
       "</table>\n",
       "<p>5 rows × 36 columns</p>\n",
       "</div>"
      ],
      "text/plain": [
       "    related  request  offer  aid_related  medical_help  medical_products  \\\n",
       "id                                                                         \n",
       "2         1        0      0            0             0                 0   \n",
       "7         1        0      0            1             0                 0   \n",
       "8         1        0      0            0             0                 0   \n",
       "9         1        1      0            1             0                 1   \n",
       "12        1        0      0            0             0                 0   \n",
       "\n",
       "    search_and_rescue  security  military  child_alone  ...  aid_centers  \\\n",
       "id                                                      ...                \n",
       "2                   0         0         0            0  ...            0   \n",
       "7                   0         0         0            0  ...            0   \n",
       "8                   0         0         0            0  ...            0   \n",
       "9                   0         0         0            0  ...            0   \n",
       "12                  0         0         0            0  ...            0   \n",
       "\n",
       "    other_infrastructure  weather_related  floods  storm  fire  earthquake  \\\n",
       "id                                                                           \n",
       "2                      0                0       0      0     0           0   \n",
       "7                      0                1       0      1     0           0   \n",
       "8                      0                0       0      0     0           0   \n",
       "9                      0                0       0      0     0           0   \n",
       "12                     0                0       0      0     0           0   \n",
       "\n",
       "    cold  other_weather  direct_report  \n",
       "id                                      \n",
       "2      0              0              0  \n",
       "7      0              0              0  \n",
       "8      0              0              0  \n",
       "9      0              0              0  \n",
       "12     0              0              0  \n",
       "\n",
       "[5 rows x 36 columns]"
      ]
     },
     "execution_count": 4,
     "metadata": {},
     "output_type": "execute_result"
    }
   ],
   "source": [
    "Y.head()"
   ]
  },
  {
   "cell_type": "code",
   "execution_count": 5,
   "metadata": {},
   "outputs": [],
   "source": [
    "def remove_single_value_columns(df):\n",
    "    \"\"\"Remove single value columns\n",
    "    \n",
    "    Args:\n",
    "        df (pd.DataFrame): input frame\n",
    "        \n",
    "    Returns:\n",
    "        df_out (pd.DataFrame): clean dataframe with removed single value columns\n",
    "    \"\"\"\n",
    "    remove_cols = []\n",
    "    \n",
    "    for col in df:\n",
    "        if len(df[col].value_counts()) == 1:\n",
    "            remove_cols.append(col)\n",
    "            \n",
    "    df_out = df.drop(columns=remove_cols)\n",
    "    \n",
    "    return df_out"
   ]
  },
  {
   "cell_type": "code",
   "execution_count": 6,
   "metadata": {},
   "outputs": [
    {
     "data": {
      "text/plain": [
       "(26174, 35)"
      ]
     },
     "execution_count": 6,
     "metadata": {},
     "output_type": "execute_result"
    }
   ],
   "source": [
    "Y = remove_single_value_columns(Y)\n",
    "Y.shape"
   ]
  },
  {
   "cell_type": "markdown",
   "metadata": {},
   "source": [
    "### 2. Write a tokenization function to process text data"
   ]
  },
  {
   "cell_type": "code",
   "execution_count": 7,
   "metadata": {},
   "outputs": [],
   "source": [
    "def tokenize(text):\n",
    "    \"\"\" Return lowercase lemmatized tokens of the input text. \n",
    "        Remove punctuation, spacy.stop_words, and pronouns.\n",
    "    \n",
    "    Args:\n",
    "        text (str): input text\n",
    "    Returns:\n",
    "        tokens ([str]): list of lower case lemmatized tokens\n",
    "    \"\"\"\n",
    "    \n",
    "    doc = nlp(text)\n",
    "    tokens = [tok.lemma_.lower() for tok in doc\n",
    "              if (not tok.is_stop) and (not tok.is_punct) and (tok.lemma_ != '-PRON-')]\n",
    "    return tokens"
   ]
  },
  {
   "cell_type": "code",
   "execution_count": 8,
   "metadata": {},
   "outputs": [
    {
     "name": "stdout",
     "output_type": "stream",
     "text": [
      "Weather update - a cold front from Cuba that could pass over Haiti \n",
      " ['weather', 'update', 'cold', 'cuba', 'pass', 'haiti']\n"
     ]
    }
   ],
   "source": [
    "# test tokenize()\n",
    "text = X.iloc[0]\n",
    "print(text, '\\n', tokenize(text))"
   ]
  },
  {
   "cell_type": "markdown",
   "metadata": {},
   "source": [
    "### 3. Build a machine learning pipeline\n",
    "This machine pipeline takes `message` column as input and outputs classification results on 36 categories in the dataset."
   ]
  },
  {
   "cell_type": "code",
   "execution_count": 9,
   "metadata": {},
   "outputs": [],
   "source": [
    "# Simple pipeline to classify messages with Count Vectorizer --> Complement Naive Bayes\n",
    "pipeline = Pipeline([\n",
    "    ('vect', CountVectorizer(tokenizer=tokenize)),\n",
    "    ('tfidf', TfidfTransformer()),\n",
    "    ('clf', MultiOutputClassifier(ComplementNB()))\n",
    "])"
   ]
  },
  {
   "cell_type": "markdown",
   "metadata": {},
   "source": [
    "### 4. Train pipeline\n",
    "- Split data into train and test sets\n",
    "- Train pipeline"
   ]
  },
  {
   "cell_type": "code",
   "execution_count": 10,
   "metadata": {},
   "outputs": [],
   "source": [
    "# Unstratified split of data into train and test sets\n",
    "X_train, X_test, Y_train, Y_test = train_test_split(X, Y)"
   ]
  },
  {
   "cell_type": "code",
   "execution_count": 11,
   "metadata": {},
   "outputs": [
    {
     "data": {
      "image/png": "[encoded data removed]",
      "text/plain": [
       "<Figure size 1152x288 with 1 Axes>"
      ]
     },
     "metadata": {
      "needs_background": "light"
     },
     "output_type": "display_data"
    }
   ],
   "source": [
    "# check that proportion of positive classes over targets is similar between train and tests sets\n",
    "pd.DataFrame({'train': Y_train.sum()/Y_train.sum().sum(), \n",
    "              'test': Y_test.sum()/Y_test.sum().sum()}).plot(kind='bar', figsize=(16,4));"
   ]
  },
  {
   "cell_type": "markdown",
   "metadata": {},
   "source": [
    "It appears that base train_test_split retains a similar ratio of positive and negative classes for all output targets. Thus, we expect, this method to generate a representative test set for model generalization evaluation."
   ]
  },
  {
   "cell_type": "code",
   "execution_count": 12,
   "metadata": {},
   "outputs": [
    {
     "name": "stdout",
     "output_type": "stream",
     "text": [
      "Wall time: 4min 18s\n"
     ]
    },
    {
     "data": {
      "text/plain": [
       "Pipeline(memory=None,\n",
       "         steps=[('vect',\n",
       "                 CountVectorizer(analyzer='word', binary=False,\n",
       "                                 decode_error='strict',\n",
       "                                 dtype=<class 'numpy.int64'>, encoding='utf-8',\n",
       "                                 input='content', lowercase=True, max_df=1.0,\n",
       "                                 max_features=None, min_df=1,\n",
       "                                 ngram_range=(1, 1), preprocessor=None,\n",
       "                                 stop_words=None, strip_accents=None,\n",
       "                                 token_pattern='(?u)\\\\b\\\\w\\\\w+\\\\b',\n",
       "                                 tokenizer=<function tokenize at 0x000002438852F9D8>,\n",
       "                                 vocabulary=None)),\n",
       "                ('tfidf',\n",
       "                 TfidfTransformer(norm='l2', smooth_idf=True,\n",
       "                                  sublinear_tf=False, use_idf=True)),\n",
       "                ('clf',\n",
       "                 MultiOutputClassifier(estimator=ComplementNB(alpha=1.0,\n",
       "                                                              class_prior=None,\n",
       "                                                              fit_prior=True,\n",
       "                                                              norm=False),\n",
       "                                       n_jobs=None))],\n",
       "         verbose=False)"
      ]
     },
     "execution_count": 12,
     "metadata": {},
     "output_type": "execute_result"
    }
   ],
   "source": [
    "# train pipeline\n",
    "%time pipeline.fit(X_train, Y_train)"
   ]
  },
  {
   "cell_type": "markdown",
   "metadata": {},
   "source": [
    "### 5. Test model"
   ]
  },
  {
   "cell_type": "code",
   "execution_count": 13,
   "metadata": {},
   "outputs": [
    {
     "name": "stdout",
     "output_type": "stream",
     "text": [
      "Wall time: 1min 23s\n"
     ]
    },
    {
     "name": "stderr",
     "output_type": "stream",
     "text": [
      "C:\\Users\\Alexander\\Anaconda3\\lib\\site-packages\\sklearn\\metrics\\_classification.py:1272: UndefinedMetricWarning: Precision and F-score are ill-defined and being set to 0.0 in samples with no predicted labels. Use `zero_division` parameter to control this behavior.\n",
      "  _warn_prf(average, modifier, msg_start, len(result))\n",
      "C:\\Users\\Alexander\\Anaconda3\\lib\\site-packages\\sklearn\\metrics\\_classification.py:1272: UndefinedMetricWarning: Recall and F-score are ill-defined and being set to 0.0 in samples with no true labels. Use `zero_division` parameter to control this behavior.\n",
      "  _warn_prf(average, modifier, msg_start, len(result))\n"
     ]
    }
   ],
   "source": [
    "%time preds = pd.DataFrame(pipeline.predict(X_test), columns=Y_test.columns.copy())\n",
    "\n",
    "report = classification_report(Y_test, preds, target_names=Y_test.columns.copy())"
   ]
  },
  {
   "cell_type": "code",
   "execution_count": 14,
   "metadata": {},
   "outputs": [
    {
     "name": "stdout",
     "output_type": "stream",
     "text": [
      "                        precision    recall  f1-score   support\n",
      "\n",
      "               related       0.83      0.95      0.89      4937\n",
      "               request       0.65      0.55      0.60      1119\n",
      "                 offer       0.00      0.00      0.00        23\n",
      "           aid_related       0.67      0.76      0.71      2686\n",
      "          medical_help       0.38      0.14      0.21       503\n",
      "      medical_products       0.27      0.09      0.13       319\n",
      "     search_and_rescue       0.00      0.00      0.00       177\n",
      "              security       0.00      0.00      0.00       113\n",
      "              military       0.34      0.14      0.20       223\n",
      "                 water       0.34      0.12      0.17       421\n",
      "                  food       0.56      0.34      0.42       739\n",
      "               shelter       0.47      0.21      0.29       554\n",
      "              clothing       0.30      0.22      0.25        97\n",
      "                 money       0.07      0.02      0.03       157\n",
      "        missing_people       0.00      0.00      0.00        67\n",
      "              refugees       0.07      0.01      0.02       216\n",
      "                 death       0.25      0.04      0.08       315\n",
      "             other_aid       0.25      0.04      0.06       858\n",
      "infrastructure_related       0.08      0.01      0.02       448\n",
      "             transport       0.12      0.02      0.04       265\n",
      "             buildings       0.27      0.07      0.11       318\n",
      "           electricity       0.12      0.05      0.08       110\n",
      "                 tools       0.00      0.00      0.00        50\n",
      "             hospitals       0.00      0.00      0.00        79\n",
      "                 shops       0.00      0.00      0.00        30\n",
      "           aid_centers       0.00      0.00      0.00        85\n",
      "  other_infrastructure       0.09      0.01      0.02       300\n",
      "       weather_related       0.71      0.65      0.68      1766\n",
      "                floods       0.57      0.23      0.33       515\n",
      "                 storm       0.62      0.36      0.45       580\n",
      "                  fire       0.02      0.02      0.02        59\n",
      "            earthquake       0.74      0.40      0.52       627\n",
      "                  cold       0.10      0.03      0.05       120\n",
      "         other_weather       0.12      0.02      0.04       348\n",
      "         direct_report       0.59      0.49      0.54      1230\n",
      "\n",
      "             micro avg       0.67      0.51      0.58     20454\n",
      "             macro avg       0.27      0.17      0.20     20454\n",
      "          weighted avg       0.56      0.51      0.51     20454\n",
      "           samples avg       0.62      0.47      0.48     20454\n",
      "\n"
     ]
    }
   ],
   "source": [
    "print(report)"
   ]
  },
  {
   "cell_type": "code",
   "execution_count": 15,
   "metadata": {},
   "outputs": [
    {
     "name": "stdout",
     "output_type": "stream",
     "text": [
      "Hamming Loss: 0.06619367796018162\n"
     ]
    }
   ],
   "source": [
    "print(f'Hamming Loss: {hamming_loss(Y_test, preds)}')"
   ]
  },
  {
   "cell_type": "code",
   "execution_count": 16,
   "metadata": {},
   "outputs": [
    {
     "data": {
      "text/plain": [
       "{'memory': None,\n",
       " 'steps': [('vect',\n",
       "   CountVectorizer(analyzer='word', binary=False, decode_error='strict',\n",
       "                   dtype=<class 'numpy.int64'>, encoding='utf-8', input='content',\n",
       "                   lowercase=True, max_df=1.0, max_features=None, min_df=1,\n",
       "                   ngram_range=(1, 1), preprocessor=None, stop_words=None,\n",
       "                   strip_accents=None, token_pattern='(?u)\\\\b\\\\w\\\\w+\\\\b',\n",
       "                   tokenizer=<function tokenize at 0x000002438852F9D8>,\n",
       "                   vocabulary=None)),\n",
       "  ('tfidf',\n",
       "   TfidfTransformer(norm='l2', smooth_idf=True, sublinear_tf=False, use_idf=True)),\n",
       "  ('clf',\n",
       "   MultiOutputClassifier(estimator=ComplementNB(alpha=1.0, class_prior=None,\n",
       "                                                fit_prior=True, norm=False),\n",
       "                         n_jobs=None))],\n",
       " 'verbose': False,\n",
       " 'vect': CountVectorizer(analyzer='word', binary=False, decode_error='strict',\n",
       "                 dtype=<class 'numpy.int64'>, encoding='utf-8', input='content',\n",
       "                 lowercase=True, max_df=1.0, max_features=None, min_df=1,\n",
       "                 ngram_range=(1, 1), preprocessor=None, stop_words=None,\n",
       "                 strip_accents=None, token_pattern='(?u)\\\\b\\\\w\\\\w+\\\\b',\n",
       "                 tokenizer=<function tokenize at 0x000002438852F9D8>,\n",
       "                 vocabulary=None),\n",
       " 'tfidf': TfidfTransformer(norm='l2', smooth_idf=True, sublinear_tf=False, use_idf=True),\n",
       " 'clf': MultiOutputClassifier(estimator=ComplementNB(alpha=1.0, class_prior=None,\n",
       "                                              fit_prior=True, norm=False),\n",
       "                       n_jobs=None),\n",
       " 'vect__analyzer': 'word',\n",
       " 'vect__binary': False,\n",
       " 'vect__decode_error': 'strict',\n",
       " 'vect__dtype': numpy.int64,\n",
       " 'vect__encoding': 'utf-8',\n",
       " 'vect__input': 'content',\n",
       " 'vect__lowercase': True,\n",
       " 'vect__max_df': 1.0,\n",
       " 'vect__max_features': None,\n",
       " 'vect__min_df': 1,\n",
       " 'vect__ngram_range': (1, 1),\n",
       " 'vect__preprocessor': None,\n",
       " 'vect__stop_words': None,\n",
       " 'vect__strip_accents': None,\n",
       " 'vect__token_pattern': '(?u)\\\\b\\\\w\\\\w+\\\\b',\n",
       " 'vect__tokenizer': <function __main__.tokenize(text)>,\n",
       " 'vect__vocabulary': None,\n",
       " 'tfidf__norm': 'l2',\n",
       " 'tfidf__smooth_idf': True,\n",
       " 'tfidf__sublinear_tf': False,\n",
       " 'tfidf__use_idf': True,\n",
       " 'clf__estimator__alpha': 1.0,\n",
       " 'clf__estimator__class_prior': None,\n",
       " 'clf__estimator__fit_prior': True,\n",
       " 'clf__estimator__norm': False,\n",
       " 'clf__estimator': ComplementNB(alpha=1.0, class_prior=None, fit_prior=True, norm=False),\n",
       " 'clf__n_jobs': None}"
      ]
     },
     "execution_count": 16,
     "metadata": {},
     "output_type": "execute_result"
    }
   ],
   "source": [
    "pipeline.get_params()"
   ]
  },
  {
   "cell_type": "markdown",
   "metadata": {},
   "source": [
    "Both cross-validation and test set splits do not account for class imbalance and are not stratified in the approach above, leading to poor model training.\n",
    "\n",
    "Additionally, Hamming Loss scorer maybe too soft, leading to higher precision but lower recall. Since classification of messages is likely to be used to provide relief during natural disasters, it is more important to alert an appropriate agency of potential need and not miss any categories even if we create a false alert, rather than not place a message in a category and not alerting of a need when there is one. Thus, **recall is more important than precision in our classification**. Model selection will be used with emphasis on high recall score."
   ]
  },
  {
   "cell_type": "markdown",
   "metadata": {},
   "source": [
    "### 6. Model Improvements:\n",
    "* use recall metric\n",
    "* try resampling with imblearn\n",
    "* try other machine learning algorithms"
   ]
  },
  {
   "cell_type": "code",
   "execution_count": 17,
   "metadata": {},
   "outputs": [],
   "source": [
    "from sklearn.multioutput import (MultiOutputClassifier, _fit_estimator)\n",
    "from sklearn.utils.validation import (check_X_y, has_fit_parameter,\n",
    "                                      _check_fit_params)\n",
    "from sklearn.utils.multiclass import check_classification_targets\n",
    "from sklearn.base import is_classifier\n",
    "\n",
    "from joblib import Parallel, delayed\n",
    "\n",
    "# Create one vs. all strategy multi-output classifier capable of re-sampling data\n",
    "# *separately* for each target output using imblearn samplers\n",
    "\n",
    "class ImbalancedMultiOutputClassifier(MultiOutputClassifier):\n",
    "    \"\"\"Multi target classification with class imbalanced targets.\n",
    "    This strategy consists of resampling data and fitting one classifier per target. \n",
    "    \n",
    "    Args:\n",
    "        estimator : estimator object implementing \n",
    "                    :term:`fit`, :term:`score` and :term:`predict_proba`    \n",
    "        sampler : imblearn sampler object (SMOTE, ADASYN, etc.) with fit_resample() method\n",
    "        n_jobs : int or None, optional (default=None)\n",
    "            The number of jobs to use for the computation.\n",
    "            It does each target variable in y in parallel.\n",
    "            ``None`` means 1 unless in a :obj:`joblib.parallel_backend` context.\n",
    "            ``-1`` means using all processors. See :term:`Glossary <n_jobs>`\n",
    "            for more details.\n",
    "    \n",
    "    Attributes:\n",
    "        estimators_ : list of ``n_output`` estimators. Estimators used for predictions.\n",
    "        sampler : imblearn resampler with fit_resample() method\n",
    "    \n",
    "    Returns:\n",
    "        None\n",
    "\n",
    "    \"\"\"\n",
    "\n",
    "    def __init__(self, estimator, n_jobs=None, sampler=None):\n",
    "        super().__init__(estimator, n_jobs)\n",
    "        self.sampler = sampler\n",
    "\n",
    "    def fit(self, X, y, sample_weight=None, **fit_params):\n",
    "        \"\"\" Fit the model to data.\n",
    "        Fit a separate model for each output variable.\n",
    "        Parameters\n",
    "        ----------\n",
    "        X : (sparse) array-like, shape (n_samples, n_features)\n",
    "            Data.\n",
    "        y : (sparse) array-like, shape (n_samples, n_outputs)\n",
    "            Multi-output targets. An indicator matrix turns on multilabel\n",
    "            estimation.\n",
    "        sample_weight : array-like of shape (n_samples,), default=None\n",
    "            Sample weights. If None, then samples are equally weighted.\n",
    "            Only supported if the underlying regressor supports sample\n",
    "            weights.\n",
    "        **fit_params : dict of string -> object\n",
    "            Parameters passed to the ``estimator.fit`` method of each step.\n",
    "        Returns\n",
    "        -------\n",
    "        self : object\n",
    "        \"\"\"\n",
    "        if not hasattr(self.estimator, \"fit\"):\n",
    "            raise ValueError(\"The base estimator should implement\"\n",
    "                             \" a fit method\")\n",
    "\n",
    "        X, y = check_X_y(X, y,\n",
    "                         multi_output=True,\n",
    "                         accept_sparse=True)\n",
    "\n",
    "        if is_classifier(self):\n",
    "            check_classification_targets(y)\n",
    "\n",
    "        if y.ndim == 1:\n",
    "            raise ValueError(\"y must have at least two dimensions for \"\n",
    "                             \"multi-output regression but has only one.\")\n",
    "\n",
    "        if (sample_weight is not None and\n",
    "                not has_fit_parameter(self.estimator, 'sample_weight')):\n",
    "            raise ValueError(\"Underlying estimator does not support\"\n",
    "                             \" sample weights.\")\n",
    "\n",
    "        fit_params_validated = _check_fit_params(X, fit_params)\n",
    "\n",
    "        if self.sampler is None:\n",
    "            self.estimators_ = Parallel(n_jobs=self.n_jobs)(\n",
    "                delayed(_fit_estimator)(\n",
    "                    self.estimator, \n",
    "                    X, y[:, i],  # fit to raw input data\n",
    "                    sample_weight,\n",
    "                    **fit_params_validated)\n",
    "                for i in range(y.shape[1]))\n",
    "        else:\n",
    "            # Resampling...\n",
    "            # calling self.sampler.fit_resample(X, y[:, i])\n",
    "            self.estimators_ = Parallel(n_jobs=self.n_jobs)(\n",
    "                delayed(_fit_estimator)(\n",
    "                    self.estimator,\n",
    "                    *self.sampler.fit_resample(X, y[:, i]),  # fit to resampled data\n",
    "                    sample_weight,\n",
    "                    **fit_params_validated)\n",
    "                for i in range(y.shape[1]))\n",
    "        return self"
   ]
  },
  {
   "cell_type": "markdown",
   "metadata": {},
   "source": [
    "Test ImbalancedMultiOutputClassifier with data resampling for each estimator/target pair."
   ]
  },
  {
   "cell_type": "code",
   "execution_count": 18,
   "metadata": {},
   "outputs": [],
   "source": [
    "clf_imb = ImbalancedMultiOutputClassifier(estimator=ComplementNB(), sampler=SMOTE(random_state=42))"
   ]
  },
  {
   "cell_type": "code",
   "execution_count": 19,
   "metadata": {},
   "outputs": [
    {
     "data": {
      "text/plain": [
       "SMOTE(k_neighbors=5, n_jobs=None, random_state=42, sampling_strategy='auto')"
      ]
     },
     "execution_count": 19,
     "metadata": {},
     "output_type": "execute_result"
    }
   ],
   "source": [
    "clf_imb.sampler"
   ]
  },
  {
   "cell_type": "code",
   "execution_count": 20,
   "metadata": {},
   "outputs": [
    {
     "name": "stdout",
     "output_type": "stream",
     "text": [
      "Wall time: 4min 9s\n",
      "Wall time: 1min 16s\n"
     ]
    }
   ],
   "source": [
    "vect = CountVectorizer(tokenizer=tokenize)\n",
    "%time X_vect = vect.fit_transform(X_train)\n",
    "%time X_vect_test = vect.transform(X_test)\n",
    "\n",
    "tfidf = TfidfTransformer()\n",
    "%time X_tfidf = tfidf.fit_transform(X_vect)\n",
    "%time X_tfidf_test = tfidf.transform(X_vect_test)"
   ]
  },
  {
   "cell_type": "code",
   "execution_count": 35,
   "metadata": {},
   "outputs": [
    {
     "name": "stdout",
     "output_type": "stream",
     "text": [
      "Wall time: 13.7 s\n",
      "Wall time: 125 ms\n",
      "                        precision    recall  f1-score   support\n",
      "\n",
      "               related       0.89      0.86      0.87      4937\n",
      "               request       0.48      0.79      0.59      1119\n",
      "                 offer       0.02      0.22      0.04        23\n",
      "           aid_related       0.64      0.83      0.72      2686\n",
      "          medical_help       0.23      0.72      0.35       503\n",
      "      medical_products       0.17      0.71      0.27       319\n",
      "     search_and_rescue       0.08      0.47      0.14       177\n",
      "              security       0.04      0.35      0.08       113\n",
      "              military       0.22      0.80      0.34       223\n",
      "                 water       0.24      0.80      0.37       421\n",
      "                  food       0.37      0.81      0.50       739\n",
      "               shelter       0.27      0.83      0.41       554\n",
      "              clothing       0.12      0.71      0.21        97\n",
      "                 money       0.10      0.61      0.18       157\n",
      "        missing_people       0.03      0.36      0.06        67\n",
      "              refugees       0.09      0.59      0.16       216\n",
      "                 death       0.18      0.74      0.29       315\n",
      "             other_aid       0.24      0.64      0.35       858\n",
      "infrastructure_related       0.15      0.62      0.24       448\n",
      "             transport       0.11      0.56      0.18       265\n",
      "             buildings       0.17      0.77      0.28       318\n",
      "           electricity       0.09      0.65      0.16       110\n",
      "                 tools       0.02      0.16      0.03        50\n",
      "             hospitals       0.05      0.38      0.09        79\n",
      "                 shops       0.02      0.23      0.03        30\n",
      "           aid_centers       0.04      0.42      0.07        85\n",
      "  other_infrastructure       0.12      0.59      0.20       300\n",
      "       weather_related       0.61      0.80      0.69      1766\n",
      "                floods       0.25      0.77      0.38       515\n",
      "                 storm       0.36      0.85      0.51       580\n",
      "                  fire       0.05      0.44      0.09        59\n",
      "            earthquake       0.41      0.76      0.54       627\n",
      "                  cold       0.10      0.68      0.18       120\n",
      "         other_weather       0.15      0.71      0.25       348\n",
      "         direct_report       0.43      0.76      0.55      1230\n",
      "\n",
      "             micro avg       0.32      0.77      0.46     20454\n",
      "             macro avg       0.22      0.63      0.30     20454\n",
      "          weighted avg       0.50      0.77      0.57     20454\n",
      "           samples avg       0.30      0.59      0.35     20454\n",
      "\n",
      "Hamming Loss: 0.16415473279776457\n"
     ]
    },
    {
     "name": "stderr",
     "output_type": "stream",
     "text": [
      "C:\\Users\\Alexander\\Anaconda3\\lib\\site-packages\\sklearn\\metrics\\_classification.py:1272: UndefinedMetricWarning: Precision and F-score are ill-defined and being set to 0.0 in samples with no predicted labels. Use `zero_division` parameter to control this behavior.\n",
      "  _warn_prf(average, modifier, msg_start, len(result))\n",
      "C:\\Users\\Alexander\\Anaconda3\\lib\\site-packages\\sklearn\\metrics\\_classification.py:1272: UndefinedMetricWarning: Recall and F-score are ill-defined and being set to 0.0 in samples with no true labels. Use `zero_division` parameter to control this behavior.\n",
      "  _warn_prf(average, modifier, msg_start, len(result))\n"
     ]
    }
   ],
   "source": [
    "%time clf_imb.fit(X_tfidf, Y_train)\n",
    "%time preds_imb = pd.DataFrame(clf_imb.predict(X_tfidf_test), columns=Y_test.columns.copy())\n",
    "report_imb = classification_report(Y_test, preds_imb, target_names=Y_test.columns.copy())\n",
    "print(report_imb)\n",
    "print(f'Hamming Loss: {hamming_loss(Y_test, preds_imb)}')"
   ]
  },
  {
   "cell_type": "markdown",
   "metadata": {},
   "source": [
    "We observe a double digit increase in recall scores for model using SMOTE synthetic oversampling, especially for extremely imbalanced (low positive class rate) targets. However, resultant models reduces precision and overall F1 score, suggesting that base SMOTE is too aggressive."
   ]
  },
  {
   "cell_type": "code",
   "execution_count": 36,
   "metadata": {},
   "outputs": [
    {
     "name": "stdout",
     "output_type": "stream",
     "text": [
      "Wall time: 46 s\n",
      "Wall time: 80.5 ms\n",
      "                        precision    recall  f1-score   support\n",
      "\n",
      "               related       0.89      0.85      0.87      4937\n",
      "               request       0.47      0.79      0.59      1119\n",
      "                 offer       0.02      0.17      0.03        23\n",
      "           aid_related       0.66      0.79      0.72      2686\n",
      "          medical_help       0.23      0.73      0.35       503\n",
      "      medical_products       0.17      0.71      0.27       319\n",
      "     search_and_rescue       0.08      0.46      0.14       177\n",
      "              security       0.05      0.36      0.08       113\n",
      "              military       0.22      0.80      0.34       223\n",
      "                 water       0.24      0.81      0.37       421\n",
      "                  food       0.35      0.82      0.49       739\n",
      "               shelter       0.27      0.84      0.41       554\n",
      "              clothing       0.12      0.72      0.21        97\n",
      "                 money       0.10      0.61      0.18       157\n",
      "        missing_people       0.04      0.37      0.07        67\n",
      "              refugees       0.09      0.59      0.16       216\n",
      "                 death       0.18      0.76      0.29       315\n",
      "             other_aid       0.23      0.65      0.34       858\n",
      "infrastructure_related       0.15      0.64      0.24       448\n",
      "             transport       0.11      0.55      0.18       265\n",
      "             buildings       0.17      0.78      0.28       318\n",
      "           electricity       0.09      0.65      0.16       110\n",
      "                 tools       0.02      0.16      0.03        50\n",
      "             hospitals       0.05      0.37      0.09        79\n",
      "                 shops       0.02      0.23      0.03        30\n",
      "           aid_centers       0.04      0.42      0.07        85\n",
      "  other_infrastructure       0.12      0.59      0.20       300\n",
      "       weather_related       0.60      0.81      0.69      1766\n",
      "                floods       0.25      0.78      0.38       515\n",
      "                 storm       0.36      0.86      0.51       580\n",
      "                  fire       0.05      0.46      0.09        59\n",
      "            earthquake       0.39      0.78      0.52       627\n",
      "                  cold       0.10      0.68      0.18       120\n",
      "         other_weather       0.15      0.71      0.25       348\n",
      "         direct_report       0.44      0.77      0.56      1230\n",
      "\n",
      "             micro avg       0.32      0.77      0.45     20454\n",
      "             macro avg       0.21      0.63      0.30     20454\n",
      "          weighted avg       0.50      0.77      0.57     20454\n",
      "           samples avg       0.29      0.58      0.35     20454\n",
      "\n"
     ]
    },
    {
     "name": "stderr",
     "output_type": "stream",
     "text": [
      "C:\\Users\\Alexander\\Anaconda3\\lib\\site-packages\\sklearn\\metrics\\_classification.py:1272: UndefinedMetricWarning: Precision and F-score are ill-defined and being set to 0.0 in samples with no predicted labels. Use `zero_division` parameter to control this behavior.\n",
      "  _warn_prf(average, modifier, msg_start, len(result))\n",
      "C:\\Users\\Alexander\\Anaconda3\\lib\\site-packages\\sklearn\\metrics\\_classification.py:1272: UndefinedMetricWarning: Recall and F-score are ill-defined and being set to 0.0 in samples with no true labels. Use `zero_division` parameter to control this behavior.\n",
      "  _warn_prf(average, modifier, msg_start, len(result))\n"
     ]
    }
   ],
   "source": [
    "clf_imb_adasyn = ImbalancedMultiOutputClassifier(estimator=ComplementNB(), sampler=ADASYN(random_state=42))\n",
    "%time clf_imb_adasyn.fit(X_tfidf, Y_train)\n",
    "%time preds_imb_adasyn = pd.DataFrame(clf_imb_adasyn.predict(X_tfidf_test), columns=Y_test.columns.copy())\n",
    "report_imb_adasyn = classification_report(Y_test, preds_imb_adasyn, target_names=Y_test.columns.copy())\n",
    "print(report_imb_adasyn)"
   ]
  },
  {
   "cell_type": "code",
   "execution_count": 32,
   "metadata": {},
   "outputs": [
    {
     "name": "stdout",
     "output_type": "stream",
     "text": [
      "Wall time: 6min 57s\n",
      "Wall time: 20.2 s\n",
      "                        precision    recall  f1-score   support\n",
      "\n",
      "               related       0.85      0.94      0.89      4937\n",
      "               request       0.82      0.48      0.61      1119\n",
      "                 offer       0.00      0.00      0.00        23\n",
      "           aid_related       0.75      0.69      0.72      2686\n",
      "          medical_help       0.61      0.07      0.13       503\n",
      "      medical_products       0.66      0.07      0.12       319\n",
      "     search_and_rescue       0.80      0.07      0.12       177\n",
      "              security       0.00      0.00      0.00       113\n",
      "              military       0.62      0.07      0.13       223\n",
      "                 water       0.91      0.38      0.53       421\n",
      "                  food       0.82      0.65      0.73       739\n",
      "               shelter       0.80      0.36      0.50       554\n",
      "              clothing       0.58      0.07      0.13        97\n",
      "                 money       1.00      0.03      0.05       157\n",
      "        missing_people       0.00      0.00      0.00        67\n",
      "              refugees       0.46      0.03      0.05       216\n",
      "                 death       0.76      0.16      0.27       315\n",
      "             other_aid       0.59      0.05      0.09       858\n",
      "infrastructure_related       0.00      0.00      0.00       448\n",
      "             transport       0.61      0.08      0.13       265\n",
      "             buildings       0.75      0.10      0.18       318\n",
      "           electricity       0.71      0.05      0.09       110\n",
      "                 tools       0.00      0.00      0.00        50\n",
      "             hospitals       0.00      0.00      0.00        79\n",
      "                 shops       0.00      0.00      0.00        30\n",
      "           aid_centers       0.00      0.00      0.00        85\n",
      "  other_infrastructure       0.25      0.00      0.01       300\n",
      "       weather_related       0.85      0.71      0.77      1766\n",
      "                floods       0.92      0.50      0.64       515\n",
      "                 storm       0.76      0.46      0.57       580\n",
      "                  fire       0.50      0.02      0.03        59\n",
      "            earthquake       0.91      0.79      0.85       627\n",
      "                  cold       0.77      0.14      0.24       120\n",
      "         other_weather       0.57      0.04      0.07       348\n",
      "         direct_report       0.77      0.38      0.51      1230\n",
      "\n",
      "             micro avg       0.82      0.53      0.65     20454\n",
      "             macro avg       0.55      0.21      0.26     20454\n",
      "          weighted avg       0.74      0.53      0.57     20454\n",
      "           samples avg       0.65      0.47      0.50     20454\n",
      "\n"
     ]
    },
    {
     "name": "stderr",
     "output_type": "stream",
     "text": [
      "C:\\Users\\Alexander\\Anaconda3\\lib\\site-packages\\sklearn\\metrics\\_classification.py:1272: UndefinedMetricWarning: Precision and F-score are ill-defined and being set to 0.0 in labels with no predicted samples. Use `zero_division` parameter to control this behavior.\n",
      "  _warn_prf(average, modifier, msg_start, len(result))\n",
      "C:\\Users\\Alexander\\Anaconda3\\lib\\site-packages\\sklearn\\metrics\\_classification.py:1272: UndefinedMetricWarning: Precision and F-score are ill-defined and being set to 0.0 in samples with no predicted labels. Use `zero_division` parameter to control this behavior.\n",
      "  _warn_prf(average, modifier, msg_start, len(result))\n",
      "C:\\Users\\Alexander\\Anaconda3\\lib\\site-packages\\sklearn\\metrics\\_classification.py:1272: UndefinedMetricWarning: Recall and F-score are ill-defined and being set to 0.0 in samples with no true labels. Use `zero_division` parameter to control this behavior.\n",
      "  _warn_prf(average, modifier, msg_start, len(result))\n"
     ]
    }
   ],
   "source": [
    "clf_rf = ImbalancedMultiOutputClassifier(estimator=RandomForestClassifier(), sampler=None)\n",
    "%time clf_rf.fit(X_tfidf, Y_train)\n",
    "%time preds_rf = pd.DataFrame(clf_rf.predict(X_tfidf_test), columns=Y_test.columns.copy())\n",
    "report_rf = classification_report(Y_test, preds_rf, target_names=Y_test.columns.copy())\n",
    "print(report_rf)"
   ]
  },
  {
   "cell_type": "code",
   "execution_count": 33,
   "metadata": {},
   "outputs": [
    {
     "name": "stdout",
     "output_type": "stream",
     "text": [
      "Wall time: 18min 30s\n",
      "Wall time: 16.6 s\n",
      "                        precision    recall  f1-score   support\n",
      "\n",
      "               related       0.87      0.90      0.89      4937\n",
      "               request       0.67      0.64      0.66      1119\n",
      "                 offer       0.00      0.00      0.00        23\n",
      "           aid_related       0.72      0.73      0.73      2686\n",
      "          medical_help       0.61      0.29      0.39       503\n",
      "      medical_products       0.62      0.25      0.36       319\n",
      "     search_and_rescue       0.56      0.11      0.18       177\n",
      "              security       0.33      0.02      0.03       113\n",
      "              military       0.58      0.22      0.32       223\n",
      "                 water       0.79      0.57      0.66       421\n",
      "                  food       0.80      0.72      0.75       739\n",
      "               shelter       0.74      0.52      0.61       554\n",
      "              clothing       0.57      0.27      0.36        97\n",
      "                 money       0.67      0.08      0.14       157\n",
      "        missing_people       1.00      0.01      0.03        67\n",
      "              refugees       0.54      0.09      0.15       216\n",
      "                 death       0.71      0.30      0.42       315\n",
      "             other_aid       0.48      0.24      0.32       858\n",
      "infrastructure_related       0.56      0.08      0.13       448\n",
      "             transport       0.65      0.16      0.26       265\n",
      "             buildings       0.76      0.31      0.44       318\n",
      "           electricity       0.54      0.12      0.19       110\n",
      "                 tools       0.00      0.00      0.00        50\n",
      "             hospitals       0.00      0.00      0.00        79\n",
      "                 shops       0.00      0.00      0.00        30\n",
      "           aid_centers       0.50      0.01      0.02        85\n",
      "  other_infrastructure       0.44      0.06      0.10       300\n",
      "       weather_related       0.82      0.76      0.79      1766\n",
      "                floods       0.84      0.52      0.64       515\n",
      "                 storm       0.74      0.56      0.64       580\n",
      "                  fire       0.67      0.07      0.12        59\n",
      "            earthquake       0.89      0.74      0.81       627\n",
      "                  cold       0.66      0.21      0.32       120\n",
      "         other_weather       0.36      0.06      0.10       348\n",
      "         direct_report       0.64      0.54      0.58      1230\n",
      "\n",
      "             micro avg       0.77      0.59      0.67     20454\n",
      "             macro avg       0.58      0.29      0.35     20454\n",
      "          weighted avg       0.73      0.59      0.63     20454\n",
      "           samples avg       0.60      0.49      0.49     20454\n",
      "\n"
     ]
    },
    {
     "name": "stderr",
     "output_type": "stream",
     "text": [
      "C:\\Users\\Alexander\\Anaconda3\\lib\\site-packages\\sklearn\\metrics\\_classification.py:1272: UndefinedMetricWarning: Precision and F-score are ill-defined and being set to 0.0 in labels with no predicted samples. Use `zero_division` parameter to control this behavior.\n",
      "  _warn_prf(average, modifier, msg_start, len(result))\n",
      "C:\\Users\\Alexander\\Anaconda3\\lib\\site-packages\\sklearn\\metrics\\_classification.py:1272: UndefinedMetricWarning: Precision and F-score are ill-defined and being set to 0.0 in samples with no predicted labels. Use `zero_division` parameter to control this behavior.\n",
      "  _warn_prf(average, modifier, msg_start, len(result))\n",
      "C:\\Users\\Alexander\\Anaconda3\\lib\\site-packages\\sklearn\\metrics\\_classification.py:1272: UndefinedMetricWarning: Recall and F-score are ill-defined and being set to 0.0 in samples with no true labels. Use `zero_division` parameter to control this behavior.\n",
      "  _warn_prf(average, modifier, msg_start, len(result))\n"
     ]
    }
   ],
   "source": [
    "clf_rf_smote = ImbalancedMultiOutputClassifier(estimator=RandomForestClassifier(), sampler=SMOTE())\n",
    "%time clf_rf_smote.fit(X_tfidf, Y_train)\n",
    "%time preds_rf_smote = pd.DataFrame(clf_rf_smote.predict(X_tfidf_test), columns=Y_test.columns.copy())\n",
    "report_rf_smote = classification_report(Y_test, preds_rf_smote, target_names=Y_test.columns.copy())\n",
    "print(report_rf_smote)"
   ]
  },
  {
   "cell_type": "markdown",
   "metadata": {},
   "source": [
    "### 7. Export model as a pickle file"
   ]
  },
  {
   "cell_type": "code",
   "execution_count": 37,
   "metadata": {},
   "outputs": [],
   "source": [
    "# with open('../models/model_01.pkl', 'wb') as file:\n",
    "#     pickle.dump(cv, file)"
   ]
  },
  {
   "cell_type": "code",
   "execution_count": null,
   "metadata": {},
   "outputs": [],
   "source": []
  }
 ],
 "metadata": {
  "kernelspec": {
   "display_name": "Python 3",
   "language": "python",
   "name": "python3"
  },
  "language_info": {
   "codemirror_mode": {
    "name": "ipython",
    "version": 3
   },
   "file_extension": ".py",
   "mimetype": "text/x-python",
   "name": "python",
   "nbconvert_exporter": "python",
   "pygments_lexer": "ipython3",
   "version": "3.7.4"
  }
 },
 "nbformat": 4,
 "nbformat_minor": 2
}
